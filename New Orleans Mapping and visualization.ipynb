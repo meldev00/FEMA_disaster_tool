{
 "cells": [
  {
   "cell_type": "code",
   "execution_count": 129,
   "metadata": {},
   "outputs": [],
   "source": [
    "#Import libraries\n",
    "import geopandas\n",
    "import pandas as pd\n",
    "import descartes\n",
    "from descartes.patch import PolygonPatch\n",
    "import matplotlib.pyplot as plt\n",
    "from sklearn.preprocessing import StandardScaler\n",
    "from sklearn.metrics import silhouette_score\n",
    "from sklearn.cluster import KMeans, DBSCAN\n"
   ]
  },
  {
   "cell_type": "markdown",
   "metadata": {},
   "source": [
    "## Plot hospitals using lat/long"
   ]
  },
  {
   "cell_type": "code",
   "execution_count": 105,
   "metadata": {},
   "outputs": [],
   "source": [
    "#Read in hospitals csv file\n",
    "df = pd.read_csv('./hospitals.csv')\n"
   ]
  },
  {
   "cell_type": "code",
   "execution_count": 106,
   "metadata": {
    "scrolled": true
   },
   "outputs": [
    {
     "data": {
      "text/plain": [
       "<matplotlib.collections.PathCollection at 0x1a22193f98>"
      ]
     },
     "execution_count": 106,
     "metadata": {},
     "output_type": "execute_result"
    },
    {
     "data": {
      "image/png": "[encoded data removed]",
      "text/plain": [
       "<Figure size 432x288 with 1 Axes>"
      ]
     },
     "metadata": {
      "needs_background": "light"
     },
     "output_type": "display_data"
    }
   ],
   "source": [
    "plt.scatter(df['lat'],df['lng'],c='red')\n"
   ]
  },
  {
   "cell_type": "markdown",
   "metadata": {},
   "source": [
    "## Using KMeans clustering group hospitals near each other."
   ]
  },
  {
   "cell_type": "code",
   "execution_count": 107,
   "metadata": {
    "scrolled": true
   },
   "outputs": [
    {
     "data": {
      "text/plain": [
       "KMeans(algorithm='auto', copy_x=True, init='k-means++', max_iter=300,\n",
       "    n_clusters=5, n_init=10, n_jobs=None, precompute_distances='auto',\n",
       "    random_state=42, tol=0.0001, verbose=0)"
      ]
     },
     "execution_count": 107,
     "metadata": {},
     "output_type": "execute_result"
    }
   ],
   "source": [
    "from sklearn.cluster import KMeans\n",
    "km = KMeans(n_clusters=5, random_state=42)\n",
    "km.fit(df[['lat','lng']])\n"
   ]
  },
  {
   "cell_type": "code",
   "execution_count": 108,
   "metadata": {
    "scrolled": true
   },
   "outputs": [
    {
     "data": {
      "text/plain": [
       "{0, 1, 2, 3, 4}"
      ]
     },
     "execution_count": 108,
     "metadata": {},
     "output_type": "execute_result"
    }
   ],
   "source": [
    "set(km.labels_)\n"
   ]
  },
  {
   "cell_type": "code",
   "execution_count": 109,
   "metadata": {},
   "outputs": [],
   "source": [
    "df['kmcluster'] = km.labels_\n"
   ]
  },
  {
   "cell_type": "code",
   "execution_count": 110,
   "metadata": {
    "scrolled": false
   },
   "outputs": [
    {
     "data": {
      "text/plain": [
       "array([[ 29.92895417, -90.10597702],\n",
       "       [ 29.96236273, -90.14611722],\n",
       "       [ 29.96253822, -90.07875791],\n",
       "       [ 29.91865128, -90.03545122],\n",
       "       [ 29.89212652, -90.09665297]])"
      ]
     },
     "execution_count": 110,
     "metadata": {},
     "output_type": "execute_result"
    }
   ],
   "source": [
    "km.cluster_centers_\n"
   ]
  },
  {
   "cell_type": "code",
   "execution_count": 117,
   "metadata": {
    "scrolled": false
   },
   "outputs": [
    {
     "data": {
      "image/png": "[encoded data removed]",
      "text/plain": [
       "<Figure size 432x288 with 1 Axes>"
      ]
     },
     "metadata": {
      "needs_background": "light"
     },
     "output_type": "display_data"
    }
   ],
   "source": [
    "ax1 = plt.scatter(df[df[\"kmcluster\"] == 0][\"lat\"], df[df[\"kmcluster\"] == 0][\"lng\"])\n",
    "ax2 = plt.scatter(df[df[\"kmcluster\"] == 1][\"lat\"], df[df[\"kmcluster\"] == 1][\"lng\"])\n",
    "ax3 = plt.scatter(df[df[\"kmcluster\"] == 2][\"lat\"], df[df[\"kmcluster\"] == 2][\"lng\"])\n",
    "ax3 = plt.scatter(df[df[\"kmcluster\"] == 3][\"lat\"], df[df[\"kmcluster\"] == 3][\"lng\"])\n",
    "ax3 = plt.scatter(df[df[\"kmcluster\"] == 4][\"lat\"], df[df[\"kmcluster\"] == 4][\"lng\"])"
   ]
  },
  {
   "cell_type": "markdown",
   "metadata": {},
   "source": [
    "## Attempt using geopandas"
   ]
  },
  {
   "cell_type": "code",
   "execution_count": 5,
   "metadata": {},
   "outputs": [],
   "source": [
    "#Create geopandas\n",
    "gdf = geopandas.GeoDataFrame(\n",
    "    df, geometry=geopandas.points_from_xy(df['lng'], df['lat']))\n"
   ]
  },
  {
   "cell_type": "code",
   "execution_count": 6,
   "metadata": {},
   "outputs": [
    {
     "name": "stdout",
     "output_type": "stream",
     "text": [
      "                                geometry                               name  \\\n",
      "0         POINT (-90.1280718 29.9177486)    Children's Hospital New Orleans   \n",
      "1         POINT (-90.0955094 29.8917868)      West Jefferson Medical Center   \n",
      "2         POINT (-90.0758301 29.9556817)              Tulane Medical Center   \n",
      "3  POINT (-90.09286729999999 29.9266229)  Internal Medicine Specialist Inc.   \n",
      "4         POINT (-90.1276848 29.9177892)                             CHNOLA   \n",
      "\n",
      "                                   vicinity  \\\n",
      "0        200 Henry Clay Avenue, New Orleans   \n",
      "1    1101 Medical Center Boulevard, Marrero   \n",
      "2           1415 Tulane Avenue, New Orleans   \n",
      "3         3525 Prytania Street, New Orleans   \n",
      "4  5720, 200 Henry Clay Avenue, New Orleans   \n",
      "\n",
      "                                               types        lat        lng  \n",
      "0  ['hospital', 'point_of_interest', 'establishme...  29.917749 -90.128072  \n",
      "1  ['hospital', 'point_of_interest', 'establishme...  29.891787 -90.095509  \n",
      "2  ['hospital', 'point_of_interest', 'establishme...  29.955682 -90.075830  \n",
      "3  ['hospital', 'health', 'point_of_interest', 'e...  29.926623 -90.092867  \n",
      "4  ['hospital', 'point_of_interest', 'establishme...  29.917789 -90.127685  \n"
     ]
    }
   ],
   "source": [
    "print(gdf.head())\n"
   ]
  },
  {
   "cell_type": "code",
   "execution_count": 7,
   "metadata": {},
   "outputs": [
    {
     "data": {
      "text/plain": [
       "['naturalearth_cities', 'naturalearth_lowres', 'nybb']"
      ]
     },
     "execution_count": 7,
     "metadata": {},
     "output_type": "execute_result"
    }
   ],
   "source": [
    "geopandas.datasets.available\n"
   ]
  },
  {
   "cell_type": "code",
   "execution_count": 13,
   "metadata": {},
   "outputs": [],
   "source": [
    "new_orleans = geopandas.read_file('./Neighborhood_Statistical_Areas.shx')\n"
   ]
  },
  {
   "cell_type": "code",
   "execution_count": 42,
   "metadata": {},
   "outputs": [],
   "source": [
    "ss=StandardScaler()\n",
    "loc_df = pd.DataFrame(ss.fit_transform(df[['lat','lng']]),columns=['lat','lng'])\n"
   ]
  },
  {
   "cell_type": "code",
   "execution_count": 51,
   "metadata": {},
   "outputs": [
    {
     "data": {
      "text/plain": [
       "RangeIndex(start=0, stop=72, step=1)"
      ]
     },
     "execution_count": 51,
     "metadata": {},
     "output_type": "execute_result"
    }
   ],
   "source": [
    "world['geometry']\n"
   ]
  },
  {
   "cell_type": "code",
   "execution_count": 33,
   "metadata": {},
   "outputs": [
    {
     "data": {
      "text/plain": [
       "<matplotlib.axes._subplots.AxesSubplot at 0x11bbbfd68>"
      ]
     },
     "execution_count": 33,
     "metadata": {},
     "output_type": "execute_result"
    },
    {
     "data": {
      "image/png": "[encoded data removed]",
      "text/plain": [
       "<Figure size 432x288 with 1 Axes>"
      ]
     },
     "metadata": {
      "needs_background": "light"
     },
     "output_type": "display_data"
    }
   ],
   "source": [
    "world.plot()\n",
    "gdf.plot(ax=ax, color='red')\n"
   ]
  },
  {
   "cell_type": "code",
   "execution_count": 21,
   "metadata": {},
   "outputs": [
    {
     "data": {
      "image/png": "[encoded data removed]",
      "text/plain": [
       "<Figure size 432x288 with 1 Axes>"
      ]
     },
     "metadata": {
      "needs_background": "light"
     },
     "output_type": "display_data"
    }
   ],
   "source": [
    "# We restrict to South America.\n",
    "ax = world.plot(color='white', edgecolor='black')\n",
    "\n",
    "# We can now plot our GeoDataFrame.\n",
    "gdf.plot(ax=ax, color='red')\n",
    "\n",
    "plt.show()\n"
   ]
  },
  {
   "cell_type": "code",
   "execution_count": 100,
   "metadata": {},
   "outputs": [
    {
     "data": {
      "image/svg+xml": [
       "<svg xmlns=\"http://www.w3.org/2000/svg\" xmlns:xlink=\"http://www.w3.org/1999/xlink\" width=\"300\" height=\"300\" viewBox=\"3690487.394802072 524668.3778394097 8526.334207130596 7712.5743517261\" preserveAspectRatio=\"xMinYMin meet\"><g transform=\"matrix(1,0,0,-1,0,1057049.3300305456)\"><path fill-rule=\"evenodd\" fill=\"#66cc99\" stroke=\"#555555\" stroke-width=\"56.842228047537304\" opacity=\"0.6\" d=\"M 3694618.735069558,530833.4227008969 L 3695005.283180967,530623.9874242246 L 3695033.64500089,530608.6731503904 L 3695921.4798393846,530127.8470123112 L 3696707.9917178005,529702.2517348975 L 3696745.9171668887,529681.5929835588 L 3697316.6916158795,529372.8262126446 L 3697831.706005797,529093.9773608893 L 3697913.9263138026,529049.8258743882 L 3698470.0656214654,528748.5466213077 L 3698697.938853383,528625.3359097242 L 3698384.4627743065,527159.7233553976 L 3698595.2825626284,526950.4865691513 L 3698570.5152237117,526433.0450187325 L 3698553.902067974,526087.7192658186 L 3698510.2226933837,524984.1679952294 L 3697945.0715927184,525265.3409893066 L 3697458.9570793808,525505.2424123883 L 3697072.5313430578,525697.9241136461 L 3696946.7661746293,525754.6707193106 L 3696695.1275703013,525877.6202765554 L 3696348.4980142266,526053.3085734844 L 3695981.2569507957,526231.3108421415 L 3695664.648988217,526385.8918978125 L 3695430.875505641,526498.5078143179 L 3695394.880498886,526516.2804165632 L 3695140.7865188867,526633.3936993927 L 3694923.388331637,526754.5643888116 L 3694794.5851115584,526828.3769052327 L 3694448.675370306,526970.2693379819 L 3694399.9812419713,526990.8076827228 L 3694352.874708891,527011.0008838177 L 3694309.9053066373,527029.4224348962 L 3694100.7984413803,527118.3251442313 L 3693743.049484968,527271.3632239848 L 3693705.7765936404,527290.214564234 L 3693568.6420253813,527345.0248220563 L 3693436.2827100456,527397.7087718099 L 3693176.179555714,527515.1311091483 L 3693127.791201055,527536.7659083903 L 3692781.150162056,527688.4850931466 L 3692628.7721859664,527747.1263800561 L 3692543.3602833003,527765.79596214 L 3692426.367078975,527776.470809564 L 3692139.855840966,527793.2247130573 L 3691851.843621716,527802.6902453154 L 3691749.479981303,527808.0773736387 L 3691502.0411717147,527814.731559813 L 3691486.2314920574,527812.3710002303 L 3691440.390376389,527804.9422093183 L 3691122.0297926366,527809.3424629718 L 3690803.1849578917,527828.6504952312 L 3690827.2780855596,528191.1500983089 L 3690826.418835297,528211.1428404748 L 3690845.5346107185,528593.5882698148 L 3690856.6310452223,528957.031440556 L 3690858.2028924674,529014.1477961391 L 3690867.364947632,529352.4755315632 L 3690876.240914136,529463.8624478877 L 3690881.7737114727,529562.8465019017 L 3690891.365883887,529778.9822244793 L 3690914.3425439745,530212.0230250657 L 3690935.0606783926,530620.672142148 L 3690938.6016817987,530671.6280769706 L 3690944.3510141373,530695.3324258924 L 3690947.912358716,530716.4659138173 L 3690953.5717962235,530832.1809054762 L 3690907.9990527183,530969.5014969707 L 3690994.424076721,532065.1620353162 L 3691409.933744386,531924.0245223045 L 3692687.9613720477,531489.7242098153 L 3694618.735069558,530833.4227008969 z\" /></g></svg>"
      ],
      "text/plain": [
       "<shapely.geometry.polygon.Polygon at 0x1191b9d68>"
      ]
     },
     "execution_count": 100,
     "metadata": {},
     "output_type": "execute_result"
    }
   ],
   "source": [
    "world['geometry'][0]\n"
   ]
  }
 ],
 "metadata": {
  "kernelspec": {
   "display_name": "Python 3",
   "language": "python",
   "name": "python3"
  },
  "language_info": {
   "codemirror_mode": {
    "name": "ipython",
    "version": 3
   },
   "file_extension": ".py",
   "mimetype": "text/x-python",
   "name": "python",
   "nbconvert_exporter": "python",
   "pygments_lexer": "ipython3",
   "version": "3.7.1"
  }
 },
 "nbformat": 4,
 "nbformat_minor": 2
}
