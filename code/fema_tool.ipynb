{
 "cells": [
  {
   "cell_type": "markdown",
   "metadata": {},
   "source": [
    "# FEMA Tool"
   ]
  },
  {
   "cell_type": "markdown",
   "metadata": {},
   "source": [
    "> This is the deliverable that our group has produced for tracking the FEMA lifelines in the area of a disaster. The tool will always import the warnings, pandas and tool functions, and can be used with any dataset created with the Google API function in our folder. This demo will run using the place search done in New Orleans. The tool will prompt the user for the information needed. It will require the latitude and longitude of the center of the disaster and an approximate radius of the disaster(in kilometers)."
   ]
  },
  {
   "cell_type": "code",
   "execution_count": 1,
   "metadata": {
    "slideshow": {
     "slide_type": "subslide"
    }
   },
   "outputs": [],
   "source": [
    "import warnings\n",
    "warnings.filterwarnings(\"ignore\")\n",
    "import pandas as pd\n",
    "from Functions import tool\n",
    "new_orleans = pd.read_csv(\"../datasets/full_dataset.csv\")"
   ]
  },
  {
   "cell_type": "code",
   "execution_count": null,
   "metadata": {
    "slideshow": {
     "slide_type": "slide"
    }
   },
   "outputs": [
    {
     "name": "stdout",
     "output_type": "stream",
     "text": [
      "What is the latitude of the center of the distaster?29.89\n",
      "What is the longitude of the center of the distaster?-90.08\n",
      "What is the radius of destruction for the event(in km)?1.6\n",
      "The total amount of life lines in this area is: 45.\n",
      "Below is a list of the types of life-lines and how many are in the affected area:\n",
      "Health & Medical: 24\n",
      "Transportation: 8\n",
      "Safety & Security: 5\n",
      "Communications: 4\n",
      "Energy: 4\n"
     ]
    },
    {
     "data": {
      "application/vnd.jupyter.widget-view+json": {
       "model_id": "821bbc8b85e54bf7b7c2908753ae9cde",
       "version_major": 2,
       "version_minor": 0
      },
      "text/plain": [
       "Map(basemap={'url': 'https://{s}.tile.openstreetmap.org/{z}/{x}/{y}.png', 'max_zoom': 19, 'attribution': 'Map …"
      ]
     },
     "metadata": {},
     "output_type": "display_data"
    }
   ],
   "source": [
    "tool.fema_tool(new_orleans)"
   ]
  },
  {
   "cell_type": "code",
   "execution_count": null,
   "metadata": {
    "slideshow": {
     "slide_type": "skip"
    }
   },
   "outputs": [],
   "source": []
  }
 ],
 "metadata": {
  "kernelspec": {
   "display_name": "Python 3",
   "language": "python",
   "name": "python3"
  },
  "language_info": {
   "codemirror_mode": {
    "name": "ipython",
    "version": 3
   },
   "file_extension": ".py",
   "mimetype": "text/x-python",
   "name": "python",
   "nbconvert_exporter": "python",
   "pygments_lexer": "ipython3",
   "version": "3.7.3"
  }
 },
 "nbformat": 4,
 "nbformat_minor": 2
}
