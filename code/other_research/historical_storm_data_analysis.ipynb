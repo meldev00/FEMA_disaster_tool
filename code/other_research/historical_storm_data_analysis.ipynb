{
 "cells": [
  {
   "cell_type": "markdown",
   "metadata": {},
   "source": [
    "# Historical Storm Data: NOAA"
   ]
  },
  {
   "cell_type": "markdown",
   "metadata": {},
   "source": [
    "> This page contains code to explore the NOAA datasets that have the records of every recorded storm in the US over the last 50 years. We wanted to see if we could estimate the amount of damage that a disaster might cause, given the past recordings. We also wanted to see if we could estimate a possible range of destruction. "
   ]
  },
  {
   "cell_type": "code",
   "execution_count": 13,
   "metadata": {},
   "outputs": [],
   "source": [
    "import pandas as pd\n",
    "import matplotlib.pyplot as plt\n",
    "import seaborn as sns\n",
    "import numpy as np\n"
   ]
  },
  {
   "cell_type": "code",
   "execution_count": 14,
   "metadata": {},
   "outputs": [],
   "source": [
    "details_2018 = pd.read_csv(\"./4_historical_storm_data/StormEvents_details-ftp_v1.0_d2018_c20190716 (1).csv\")\n",
    "locations_2018 = pd.read_csv(\"./4_historical_storm_data/StormEvents_locations-ftp_v1.0_d2018_c20190716 2.csv\")"
   ]
  },
  {
   "cell_type": "code",
   "execution_count": 20,
   "metadata": {},
   "outputs": [],
   "source": [
    "details_2018.columns = [x.lower() for x in list(details_2018.columns)]"
   ]
  },
  {
   "cell_type": "code",
   "execution_count": 21,
   "metadata": {},
   "outputs": [],
   "source": [
    "locations_2018.columns = [x.lower() for x in list(locations_2018.columns)]"
   ]
  },
  {
   "cell_type": "code",
   "execution_count": 22,
   "metadata": {},
   "outputs": [],
   "source": [
    "drop_columns = []\n",
    "\n",
    "for i in details_2018.isna().sum().index:\n",
    "    if (details_2018.isna().sum() > 40_000)[i]:\n",
    "        drop_columns.append(i)"
   ]
  },
  {
   "cell_type": "code",
   "execution_count": 23,
   "metadata": {},
   "outputs": [],
   "source": [
    "details_2018 = details_2018.drop(drop_columns, axis = 1)"
   ]
  },
  {
   "cell_type": "code",
   "execution_count": 25,
   "metadata": {},
   "outputs": [
    {
     "data": {
      "text/plain": [
       "(48472, 51)"
      ]
     },
     "execution_count": 25,
     "metadata": {},
     "output_type": "execute_result"
    }
   ],
   "source": [
    "merged = pd.merge(locations_2018, details_2018, on = \"event_id\")\n",
    "merged.shape"
   ]
  },
  {
   "cell_type": "code",
   "execution_count": 27,
   "metadata": {},
   "outputs": [
    {
     "data": {
      "text/plain": [
       "Index(['yearmonth', 'episode_id_x', 'event_id', 'location_index', 'range',\n",
       "       'azimuth', 'location', 'latitude', 'longitude', 'lat2', 'lon2',\n",
       "       'begin_yearmonth', 'begin_day', 'begin_time', 'end_yearmonth',\n",
       "       'end_day', 'end_time', 'episode_id_y', 'state', 'state_fips', 'year',\n",
       "       'month_name', 'event_type', 'cz_type', 'cz_fips', 'cz_name', 'wfo',\n",
       "       'begin_date_time', 'cz_timezone', 'end_date_time', 'injuries_direct',\n",
       "       'injuries_indirect', 'deaths_direct', 'deaths_indirect',\n",
       "       'damage_property', 'damage_crops', 'source', 'magnitude', 'begin_range',\n",
       "       'begin_azimuth', 'begin_location', 'end_range', 'end_azimuth',\n",
       "       'end_location', 'begin_lat', 'begin_lon', 'end_lat', 'end_lon',\n",
       "       'episode_narrative', 'event_narrative', 'data_source'],\n",
       "      dtype='object')"
      ]
     },
     "execution_count": 27,
     "metadata": {},
     "output_type": "execute_result"
    }
   ],
   "source": [
    "merged.columns"
   ]
  },
  {
   "cell_type": "code",
   "execution_count": null,
   "metadata": {},
   "outputs": [],
   "source": []
  },
  {
   "cell_type": "code",
   "execution_count": 30,
   "metadata": {},
   "outputs": [
    {
     "data": {
      "text/html": [
       "<div>\n",
       "<style scoped>\n",
       "    .dataframe tbody tr th:only-of-type {\n",
       "        vertical-align: middle;\n",
       "    }\n",
       "\n",
       "    .dataframe tbody tr th {\n",
       "        vertical-align: top;\n",
       "    }\n",
       "\n",
       "    .dataframe thead th {\n",
       "        text-align: right;\n",
       "    }\n",
       "</style>\n",
       "<table border=\"1\" class=\"dataframe\">\n",
       "  <thead>\n",
       "    <tr style=\"text-align: right;\">\n",
       "      <th></th>\n",
       "      <th>begin_lat</th>\n",
       "      <th>end_lat</th>\n",
       "      <th>event_type</th>\n",
       "    </tr>\n",
       "  </thead>\n",
       "  <tbody>\n",
       "    <tr>\n",
       "      <th>0</th>\n",
       "      <td>30.3100</td>\n",
       "      <td>30.3158</td>\n",
       "      <td>Flood</td>\n",
       "    </tr>\n",
       "    <tr>\n",
       "      <th>1</th>\n",
       "      <td>30.3100</td>\n",
       "      <td>30.3158</td>\n",
       "      <td>Flood</td>\n",
       "    </tr>\n",
       "    <tr>\n",
       "      <th>2</th>\n",
       "      <td>30.3100</td>\n",
       "      <td>30.3158</td>\n",
       "      <td>Flood</td>\n",
       "    </tr>\n",
       "    <tr>\n",
       "      <th>3</th>\n",
       "      <td>30.3100</td>\n",
       "      <td>30.3158</td>\n",
       "      <td>Flood</td>\n",
       "    </tr>\n",
       "    <tr>\n",
       "      <th>4</th>\n",
       "      <td>41.7551</td>\n",
       "      <td>41.7437</td>\n",
       "      <td>Flash Flood</td>\n",
       "    </tr>\n",
       "  </tbody>\n",
       "</table>\n",
       "</div>"
      ],
      "text/plain": [
       "   begin_lat  end_lat   event_type\n",
       "0    30.3100  30.3158        Flood\n",
       "1    30.3100  30.3158        Flood\n",
       "2    30.3100  30.3158        Flood\n",
       "3    30.3100  30.3158        Flood\n",
       "4    41.7551  41.7437  Flash Flood"
      ]
     },
     "execution_count": 30,
     "metadata": {},
     "output_type": "execute_result"
    }
   ],
   "source": [
    "merged[[\"begin_lat\",\"end_lat\", \"event_type\"]].head()"
   ]
  },
  {
   "cell_type": "code",
   "execution_count": 74,
   "metadata": {},
   "outputs": [],
   "source": [
    "X = merged[[\"range\", \"begin_lat\", \"end_lat\", \"event_type\", \"begin_lon\", \"end_lon\", \"location_index\"]]\n",
    "\n",
    "X = pd.get_dummies(X, columns = [\"event_type\"], drop_first= True)\n",
    "\n",
    "X_train = X.drop([\"end_lat\",\"end_lon\"], axis = 1)\n",
    "y = X[\"end_lat\"]"
   ]
  },
  {
   "cell_type": "code",
   "execution_count": 77,
   "metadata": {},
   "outputs": [],
   "source": [
    "from sklearn.model_selection import train_test_split\n",
    "from sklearn.linear_model import ElasticNetCV\n",
    "from sklearn.ensemble import RandomForestRegressor\n",
    "from sklearn.preprocessing import StandardScaler"
   ]
  },
  {
   "cell_type": "code",
   "execution_count": 78,
   "metadata": {},
   "outputs": [
    {
     "name": "stderr",
     "output_type": "stream",
     "text": [
      "/Users/mdevlin/anaconda3/lib/python3.7/site-packages/sklearn/preprocessing/data.py:645: DataConversionWarning: Data with input dtype uint8, int64, float64 were all converted to float64 by StandardScaler.\n",
      "  return self.partial_fit(X, y)\n",
      "/Users/mdevlin/anaconda3/lib/python3.7/site-packages/sklearn/base.py:464: DataConversionWarning: Data with input dtype uint8, int64, float64 were all converted to float64 by StandardScaler.\n",
      "  return self.fit(X, **fit_params).transform(X)\n",
      "/Users/mdevlin/anaconda3/lib/python3.7/site-packages/ipykernel_launcher.py:5: DataConversionWarning: Data with input dtype uint8, int64, float64 were all converted to float64 by StandardScaler.\n",
      "  \"\"\"\n"
     ]
    }
   ],
   "source": [
    "X_train, X_test, y_train, y_test = train_test_split(X_train, y, random_state = 42)\n",
    "\n",
    "ss = StandardScaler()\n",
    "X_train = ss.fit_transform(X_train)\n",
    "X_test = ss.transform(X_test)"
   ]
  },
  {
   "cell_type": "code",
   "execution_count": 79,
   "metadata": {},
   "outputs": [
    {
     "name": "stderr",
     "output_type": "stream",
     "text": [
      "/Users/mdevlin/anaconda3/lib/python3.7/site-packages/sklearn/model_selection/_split.py:2053: FutureWarning: You should specify a value for 'cv' instead of relying on the default value. The default value will change from 3 to 5 in version 0.22.\n",
      "  warnings.warn(CV_WARNING, FutureWarning)\n",
      "/Users/mdevlin/anaconda3/lib/python3.7/site-packages/sklearn/ensemble/forest.py:246: FutureWarning: The default value of n_estimators will change from 10 in version 0.20 to 100 in 0.22.\n",
      "  \"10 in version 0.20 to 100 in 0.22.\", FutureWarning)\n"
     ]
    },
    {
     "data": {
      "text/plain": [
       "RandomForestRegressor(bootstrap=True, criterion='mse', max_depth=None,\n",
       "           max_features='auto', max_leaf_nodes=None,\n",
       "           min_impurity_decrease=0.0, min_impurity_split=None,\n",
       "           min_samples_leaf=1, min_samples_split=2,\n",
       "           min_weight_fraction_leaf=0.0, n_estimators=10, n_jobs=None,\n",
       "           oob_score=False, random_state=None, verbose=0, warm_start=False)"
      ]
     },
     "execution_count": 79,
     "metadata": {},
     "output_type": "execute_result"
    }
   ],
   "source": [
    "en = ElasticNetCV()\n",
    "en.fit(X_train, y_train)\n",
    "\n",
    "rf = RandomForestRegressor()\n",
    "rf.fit(X_train, y_train)"
   ]
  },
  {
   "cell_type": "code",
   "execution_count": 80,
   "metadata": {},
   "outputs": [
    {
     "data": {
      "text/plain": [
       "0.9998654564152379"
      ]
     },
     "execution_count": 80,
     "metadata": {},
     "output_type": "execute_result"
    }
   ],
   "source": [
    "en.score(X_train, y_train)"
   ]
  },
  {
   "cell_type": "code",
   "execution_count": 81,
   "metadata": {},
   "outputs": [
    {
     "data": {
      "text/plain": [
       "0.9998567029945428"
      ]
     },
     "execution_count": 81,
     "metadata": {},
     "output_type": "execute_result"
    }
   ],
   "source": [
    "en.score(X_test, y_test)"
   ]
  },
  {
   "cell_type": "code",
   "execution_count": 107,
   "metadata": {},
   "outputs": [
    {
     "data": {
      "text/plain": [
       "numpy.ndarray"
      ]
     },
     "execution_count": 107,
     "metadata": {},
     "output_type": "execute_result"
    }
   ],
   "source": [
    "pred = en.predict(X_test)\n",
    "type(pred)"
   ]
  },
  {
   "cell_type": "code",
   "execution_count": 98,
   "metadata": {},
   "outputs": [
    {
     "data": {
      "text/html": [
       "<div>\n",
       "<style scoped>\n",
       "    .dataframe tbody tr th:only-of-type {\n",
       "        vertical-align: middle;\n",
       "    }\n",
       "\n",
       "    .dataframe tbody tr th {\n",
       "        vertical-align: top;\n",
       "    }\n",
       "\n",
       "    .dataframe thead th {\n",
       "        text-align: right;\n",
       "    }\n",
       "</style>\n",
       "<table border=\"1\" class=\"dataframe\">\n",
       "  <thead>\n",
       "    <tr style=\"text-align: right;\">\n",
       "      <th></th>\n",
       "      <th>en_pred</th>\n",
       "    </tr>\n",
       "  </thead>\n",
       "  <tbody>\n",
       "    <tr>\n",
       "      <th>0</th>\n",
       "      <td>29.303339</td>\n",
       "    </tr>\n",
       "    <tr>\n",
       "      <th>1</th>\n",
       "      <td>34.824028</td>\n",
       "    </tr>\n",
       "    <tr>\n",
       "      <th>2</th>\n",
       "      <td>43.218854</td>\n",
       "    </tr>\n",
       "    <tr>\n",
       "      <th>3</th>\n",
       "      <td>36.012851</td>\n",
       "    </tr>\n",
       "    <tr>\n",
       "      <th>4</th>\n",
       "      <td>41.981260</td>\n",
       "    </tr>\n",
       "  </tbody>\n",
       "</table>\n",
       "</div>"
      ],
      "text/plain": [
       "     en_pred\n",
       "0  29.303339\n",
       "1  34.824028\n",
       "2  43.218854\n",
       "3  36.012851\n",
       "4  41.981260"
      ]
     },
     "execution_count": 98,
     "metadata": {},
     "output_type": "execute_result"
    }
   ],
   "source": [
    "en_df = pd.DataFrame(pred, columns = [\"en_pred\"])\n",
    "en_df.head()"
   ]
  },
  {
   "cell_type": "code",
   "execution_count": 108,
   "metadata": {},
   "outputs": [],
   "source": [
    "true_df = pd.DataFrame(y_test.values, columns = [\"true\"])"
   ]
  },
  {
   "cell_type": "code",
   "execution_count": 110,
   "metadata": {},
   "outputs": [
    {
     "data": {
      "text/html": [
       "<div>\n",
       "<style scoped>\n",
       "    .dataframe tbody tr th:only-of-type {\n",
       "        vertical-align: middle;\n",
       "    }\n",
       "\n",
       "    .dataframe tbody tr th {\n",
       "        vertical-align: top;\n",
       "    }\n",
       "\n",
       "    .dataframe thead th {\n",
       "        text-align: right;\n",
       "    }\n",
       "</style>\n",
       "<table border=\"1\" class=\"dataframe\">\n",
       "  <thead>\n",
       "    <tr style=\"text-align: right;\">\n",
       "      <th></th>\n",
       "      <th>true</th>\n",
       "    </tr>\n",
       "  </thead>\n",
       "  <tbody>\n",
       "    <tr>\n",
       "      <th>0</th>\n",
       "      <td>29.2600</td>\n",
       "    </tr>\n",
       "    <tr>\n",
       "      <th>1</th>\n",
       "      <td>34.8026</td>\n",
       "    </tr>\n",
       "    <tr>\n",
       "      <th>2</th>\n",
       "      <td>43.2804</td>\n",
       "    </tr>\n",
       "    <tr>\n",
       "      <th>3</th>\n",
       "      <td>36.0010</td>\n",
       "    </tr>\n",
       "    <tr>\n",
       "      <th>4</th>\n",
       "      <td>42.0092</td>\n",
       "    </tr>\n",
       "  </tbody>\n",
       "</table>\n",
       "</div>"
      ],
      "text/plain": [
       "      true\n",
       "0  29.2600\n",
       "1  34.8026\n",
       "2  43.2804\n",
       "3  36.0010\n",
       "4  42.0092"
      ]
     },
     "execution_count": 110,
     "metadata": {},
     "output_type": "execute_result"
    }
   ],
   "source": [
    "true_df.head()"
   ]
  },
  {
   "cell_type": "code",
   "execution_count": 83,
   "metadata": {},
   "outputs": [
    {
     "data": {
      "text/plain": [
       "<matplotlib.collections.PathCollection at 0x13975d9b0>"
      ]
     },
     "execution_count": 83,
     "metadata": {},
     "output_type": "execute_result"
    },
    {
     "data": {
      "image/png": "[encoded data removed]",
      "text/plain": [
       "<Figure size 432x288 with 1 Axes>"
      ]
     },
     "metadata": {
      "needs_background": "light"
     },
     "output_type": "display_data"
    }
   ],
   "source": [
    "import matplotlib.pyplot as plt\n",
    "\n",
    "plt.scatter(y_test, pred)"
   ]
  },
  {
   "cell_type": "code",
   "execution_count": 84,
   "metadata": {},
   "outputs": [
    {
     "data": {
      "text/plain": [
       "RandomForestRegressor(bootstrap=True, criterion='mse', max_depth=None,\n",
       "           max_features='auto', max_leaf_nodes=None,\n",
       "           min_impurity_decrease=0.0, min_impurity_split=None,\n",
       "           min_samples_leaf=1, min_samples_split=2,\n",
       "           min_weight_fraction_leaf=0.0, n_estimators=10, n_jobs=None,\n",
       "           oob_score=False, random_state=None, verbose=0, warm_start=False)"
      ]
     },
     "execution_count": 84,
     "metadata": {},
     "output_type": "execute_result"
    }
   ],
   "source": [
    "rf.fit(X_train, y_train)"
   ]
  },
  {
   "cell_type": "code",
   "execution_count": 85,
   "metadata": {},
   "outputs": [
    {
     "data": {
      "text/plain": [
       "0.9999950901052638"
      ]
     },
     "execution_count": 85,
     "metadata": {},
     "output_type": "execute_result"
    }
   ],
   "source": [
    "rf.score(X_train, y_train)"
   ]
  },
  {
   "cell_type": "code",
   "execution_count": 86,
   "metadata": {},
   "outputs": [
    {
     "data": {
      "text/plain": [
       "0.9999792184973803"
      ]
     },
     "execution_count": 86,
     "metadata": {},
     "output_type": "execute_result"
    }
   ],
   "source": [
    "rf.score(X_test, y_test)"
   ]
  },
  {
   "cell_type": "code",
   "execution_count": 88,
   "metadata": {},
   "outputs": [],
   "source": [
    "rf_pred = rf.predict(X_train)"
   ]
  },
  {
   "cell_type": "code",
   "execution_count": 99,
   "metadata": {},
   "outputs": [
    {
     "data": {
      "text/html": [
       "<div>\n",
       "<style scoped>\n",
       "    .dataframe tbody tr th:only-of-type {\n",
       "        vertical-align: middle;\n",
       "    }\n",
       "\n",
       "    .dataframe tbody tr th {\n",
       "        vertical-align: top;\n",
       "    }\n",
       "\n",
       "    .dataframe thead th {\n",
       "        text-align: right;\n",
       "    }\n",
       "</style>\n",
       "<table border=\"1\" class=\"dataframe\">\n",
       "  <thead>\n",
       "    <tr style=\"text-align: right;\">\n",
       "      <th></th>\n",
       "      <th>rf_pred</th>\n",
       "    </tr>\n",
       "  </thead>\n",
       "  <tbody>\n",
       "    <tr>\n",
       "      <th>0</th>\n",
       "      <td>37.613848</td>\n",
       "    </tr>\n",
       "    <tr>\n",
       "      <th>1</th>\n",
       "      <td>35.156890</td>\n",
       "    </tr>\n",
       "    <tr>\n",
       "      <th>2</th>\n",
       "      <td>48.777010</td>\n",
       "    </tr>\n",
       "    <tr>\n",
       "      <th>3</th>\n",
       "      <td>36.368045</td>\n",
       "    </tr>\n",
       "    <tr>\n",
       "      <th>4</th>\n",
       "      <td>40.818300</td>\n",
       "    </tr>\n",
       "  </tbody>\n",
       "</table>\n",
       "</div>"
      ],
      "text/plain": [
       "     rf_pred\n",
       "0  37.613848\n",
       "1  35.156890\n",
       "2  48.777010\n",
       "3  36.368045\n",
       "4  40.818300"
      ]
     },
     "execution_count": 99,
     "metadata": {},
     "output_type": "execute_result"
    }
   ],
   "source": [
    "rf_df = pd.DataFrame(rf_pred, columns = [\"rf_pred\"])\n",
    "rf_df.head()"
   ]
  },
  {
   "cell_type": "code",
   "execution_count": 118,
   "metadata": {},
   "outputs": [
    {
     "data": {
      "text/html": [
       "<div>\n",
       "<style scoped>\n",
       "    .dataframe tbody tr th:only-of-type {\n",
       "        vertical-align: middle;\n",
       "    }\n",
       "\n",
       "    .dataframe tbody tr th {\n",
       "        vertical-align: top;\n",
       "    }\n",
       "\n",
       "    .dataframe thead th {\n",
       "        text-align: right;\n",
       "    }\n",
       "</style>\n",
       "<table border=\"1\" class=\"dataframe\">\n",
       "  <thead>\n",
       "    <tr style=\"text-align: right;\">\n",
       "      <th></th>\n",
       "      <th>true</th>\n",
       "      <th>rf_pred</th>\n",
       "      <th>en_pred</th>\n",
       "    </tr>\n",
       "  </thead>\n",
       "  <tbody>\n",
       "    <tr>\n",
       "      <th>0</th>\n",
       "      <td>29.2600</td>\n",
       "      <td>37.613848</td>\n",
       "      <td>29.303339</td>\n",
       "    </tr>\n",
       "    <tr>\n",
       "      <th>1</th>\n",
       "      <td>34.8026</td>\n",
       "      <td>35.156890</td>\n",
       "      <td>34.824028</td>\n",
       "    </tr>\n",
       "    <tr>\n",
       "      <th>2</th>\n",
       "      <td>43.2804</td>\n",
       "      <td>48.777010</td>\n",
       "      <td>43.218854</td>\n",
       "    </tr>\n",
       "    <tr>\n",
       "      <th>3</th>\n",
       "      <td>36.0010</td>\n",
       "      <td>36.368045</td>\n",
       "      <td>36.012851</td>\n",
       "    </tr>\n",
       "    <tr>\n",
       "      <th>4</th>\n",
       "      <td>42.0092</td>\n",
       "      <td>40.818300</td>\n",
       "      <td>41.981260</td>\n",
       "    </tr>\n",
       "  </tbody>\n",
       "</table>\n",
       "</div>"
      ],
      "text/plain": [
       "      true    rf_pred    en_pred\n",
       "0  29.2600  37.613848  29.303339\n",
       "1  34.8026  35.156890  34.824028\n",
       "2  43.2804  48.777010  43.218854\n",
       "3  36.0010  36.368045  36.012851\n",
       "4  42.0092  40.818300  41.981260"
      ]
     },
     "execution_count": 118,
     "metadata": {},
     "output_type": "execute_result"
    }
   ],
   "source": [
    "df = pd.concat([true_df, rf_df], axis = 1)\n",
    "preds_df = pd.concat([df, en_df], axis =1)\n",
    "preds_df.head()"
   ]
  },
  {
   "cell_type": "code",
   "execution_count": 119,
   "metadata": {},
   "outputs": [],
   "source": [
    "X = merged[[\"range\", \"begin_lat\", \"end_lat\", \"event_type\", \"begin_lon\", \"end_lon\", \"location_index\"]]\n",
    "\n",
    "X = pd.get_dummies(X, columns = [\"event_type\"], drop_first= True)\n",
    "\n",
    "X_train = X.drop([\"end_lat\",\"end_lon\"], axis = 1)\n",
    "y = X[\"end_lon\"]"
   ]
  },
  {
   "cell_type": "code",
   "execution_count": 120,
   "metadata": {},
   "outputs": [
    {
     "name": "stderr",
     "output_type": "stream",
     "text": [
      "/Users/mdevlin/anaconda3/lib/python3.7/site-packages/sklearn/preprocessing/data.py:645: DataConversionWarning: Data with input dtype uint8, int64, float64 were all converted to float64 by StandardScaler.\n",
      "  return self.partial_fit(X, y)\n",
      "/Users/mdevlin/anaconda3/lib/python3.7/site-packages/sklearn/base.py:464: DataConversionWarning: Data with input dtype uint8, int64, float64 were all converted to float64 by StandardScaler.\n",
      "  return self.fit(X, **fit_params).transform(X)\n",
      "/Users/mdevlin/anaconda3/lib/python3.7/site-packages/ipykernel_launcher.py:5: DataConversionWarning: Data with input dtype uint8, int64, float64 were all converted to float64 by StandardScaler.\n",
      "  \"\"\"\n"
     ]
    }
   ],
   "source": [
    "X_train, X_test, y_train, y_test = train_test_split(X_train, y, random_state = 42)\n",
    "\n",
    "ss = StandardScaler()\n",
    "X_train = ss.fit_transform(X_train)\n",
    "X_test = ss.transform(X_test)"
   ]
  },
  {
   "cell_type": "code",
   "execution_count": 121,
   "metadata": {},
   "outputs": [
    {
     "name": "stderr",
     "output_type": "stream",
     "text": [
      "/Users/mdevlin/anaconda3/lib/python3.7/site-packages/sklearn/model_selection/_split.py:2053: FutureWarning: You should specify a value for 'cv' instead of relying on the default value. The default value will change from 3 to 5 in version 0.22.\n",
      "  warnings.warn(CV_WARNING, FutureWarning)\n",
      "/Users/mdevlin/anaconda3/lib/python3.7/site-packages/sklearn/ensemble/forest.py:246: FutureWarning: The default value of n_estimators will change from 10 in version 0.20 to 100 in 0.22.\n",
      "  \"10 in version 0.20 to 100 in 0.22.\", FutureWarning)\n"
     ]
    },
    {
     "data": {
      "text/plain": [
       "RandomForestRegressor(bootstrap=True, criterion='mse', max_depth=None,\n",
       "           max_features='auto', max_leaf_nodes=None,\n",
       "           min_impurity_decrease=0.0, min_impurity_split=None,\n",
       "           min_samples_leaf=1, min_samples_split=2,\n",
       "           min_weight_fraction_leaf=0.0, n_estimators=10, n_jobs=None,\n",
       "           oob_score=False, random_state=None, verbose=0, warm_start=False)"
      ]
     },
     "execution_count": 121,
     "metadata": {},
     "output_type": "execute_result"
    }
   ],
   "source": [
    "en = ElasticNetCV()\n",
    "en.fit(X_train, y_train)\n",
    "\n",
    "rf = RandomForestRegressor()\n",
    "rf.fit(X_train, y_train)"
   ]
  },
  {
   "cell_type": "code",
   "execution_count": 122,
   "metadata": {},
   "outputs": [
    {
     "name": "stderr",
     "output_type": "stream",
     "text": [
      "/Users/mdevlin/anaconda3/lib/python3.7/site-packages/sklearn/model_selection/_split.py:2053: FutureWarning: You should specify a value for 'cv' instead of relying on the default value. The default value will change from 3 to 5 in version 0.22.\n",
      "  warnings.warn(CV_WARNING, FutureWarning)\n"
     ]
    },
    {
     "data": {
      "text/plain": [
       "ElasticNetCV(alphas=None, copy_X=True, cv='warn', eps=0.001,\n",
       "       fit_intercept=True, l1_ratio=0.5, max_iter=1000, n_alphas=100,\n",
       "       n_jobs=None, normalize=False, positive=False, precompute='auto',\n",
       "       random_state=None, selection='cyclic', tol=0.0001, verbose=0)"
      ]
     },
     "execution_count": 122,
     "metadata": {},
     "output_type": "execute_result"
    }
   ],
   "source": [
    "en.fit(X_train, y_train)"
   ]
  },
  {
   "cell_type": "code",
   "execution_count": 123,
   "metadata": {},
   "outputs": [
    {
     "data": {
      "text/plain": [
       "0.9997808981269285"
      ]
     },
     "execution_count": 123,
     "metadata": {},
     "output_type": "execute_result"
    }
   ],
   "source": [
    "en.score(X_train, y_train)"
   ]
  },
  {
   "cell_type": "code",
   "execution_count": 124,
   "metadata": {},
   "outputs": [
    {
     "data": {
      "text/plain": [
       "0.9997780682621998"
      ]
     },
     "execution_count": 124,
     "metadata": {},
     "output_type": "execute_result"
    }
   ],
   "source": [
    "en.score(X_test, y_test)"
   ]
  },
  {
   "cell_type": "code",
   "execution_count": 137,
   "metadata": {},
   "outputs": [],
   "source": [
    "pred = en.predict(X_train)\n",
    "d= pd.DataFrame(pred, columns = [\"en_pred\"])"
   ]
  },
  {
   "cell_type": "code",
   "execution_count": 138,
   "metadata": {},
   "outputs": [],
   "source": [
    "f = pd.DataFrame(y_test.values, columns = [\"True\"])"
   ]
  },
  {
   "cell_type": "code",
   "execution_count": 139,
   "metadata": {},
   "outputs": [
    {
     "data": {
      "text/html": [
       "<div>\n",
       "<style scoped>\n",
       "    .dataframe tbody tr th:only-of-type {\n",
       "        vertical-align: middle;\n",
       "    }\n",
       "\n",
       "    .dataframe tbody tr th {\n",
       "        vertical-align: top;\n",
       "    }\n",
       "\n",
       "    .dataframe thead th {\n",
       "        text-align: right;\n",
       "    }\n",
       "</style>\n",
       "<table border=\"1\" class=\"dataframe\">\n",
       "  <thead>\n",
       "    <tr style=\"text-align: right;\">\n",
       "      <th></th>\n",
       "      <th>True</th>\n",
       "      <th>en_pred</th>\n",
       "    </tr>\n",
       "  </thead>\n",
       "  <tbody>\n",
       "    <tr>\n",
       "      <th>0</th>\n",
       "      <td>-89.9600</td>\n",
       "      <td>-79.675946</td>\n",
       "    </tr>\n",
       "    <tr>\n",
       "      <th>1</th>\n",
       "      <td>-83.7165</td>\n",
       "      <td>-90.124196</td>\n",
       "    </tr>\n",
       "    <tr>\n",
       "      <th>2</th>\n",
       "      <td>-92.9240</td>\n",
       "      <td>-105.625997</td>\n",
       "    </tr>\n",
       "    <tr>\n",
       "      <th>3</th>\n",
       "      <td>-95.8713</td>\n",
       "      <td>-105.477962</td>\n",
       "    </tr>\n",
       "    <tr>\n",
       "      <th>4</th>\n",
       "      <td>-76.7337</td>\n",
       "      <td>-72.861553</td>\n",
       "    </tr>\n",
       "    <tr>\n",
       "      <th>5</th>\n",
       "      <td>-80.8100</td>\n",
       "      <td>-76.607041</td>\n",
       "    </tr>\n",
       "    <tr>\n",
       "      <th>6</th>\n",
       "      <td>-88.8200</td>\n",
       "      <td>-90.736483</td>\n",
       "    </tr>\n",
       "    <tr>\n",
       "      <th>7</th>\n",
       "      <td>-92.0123</td>\n",
       "      <td>-97.112035</td>\n",
       "    </tr>\n",
       "    <tr>\n",
       "      <th>8</th>\n",
       "      <td>-91.6500</td>\n",
       "      <td>-90.555949</td>\n",
       "    </tr>\n",
       "    <tr>\n",
       "      <th>9</th>\n",
       "      <td>-85.5052</td>\n",
       "      <td>-101.669363</td>\n",
       "    </tr>\n",
       "    <tr>\n",
       "      <th>10</th>\n",
       "      <td>-90.1048</td>\n",
       "      <td>-78.725006</td>\n",
       "    </tr>\n",
       "    <tr>\n",
       "      <th>11</th>\n",
       "      <td>-95.9600</td>\n",
       "      <td>-96.524361</td>\n",
       "    </tr>\n",
       "    <tr>\n",
       "      <th>12</th>\n",
       "      <td>-96.7000</td>\n",
       "      <td>-85.307238</td>\n",
       "    </tr>\n",
       "    <tr>\n",
       "      <th>13</th>\n",
       "      <td>-84.5046</td>\n",
       "      <td>-66.457856</td>\n",
       "    </tr>\n",
       "    <tr>\n",
       "      <th>14</th>\n",
       "      <td>-95.3872</td>\n",
       "      <td>-122.494826</td>\n",
       "    </tr>\n",
       "    <tr>\n",
       "      <th>15</th>\n",
       "      <td>-96.6188</td>\n",
       "      <td>-95.091949</td>\n",
       "    </tr>\n",
       "    <tr>\n",
       "      <th>16</th>\n",
       "      <td>-76.7463</td>\n",
       "      <td>-79.664539</td>\n",
       "    </tr>\n",
       "    <tr>\n",
       "      <th>17</th>\n",
       "      <td>-88.4791</td>\n",
       "      <td>-90.309069</td>\n",
       "    </tr>\n",
       "    <tr>\n",
       "      <th>18</th>\n",
       "      <td>-75.0391</td>\n",
       "      <td>-90.147296</td>\n",
       "    </tr>\n",
       "    <tr>\n",
       "      <th>19</th>\n",
       "      <td>-80.6727</td>\n",
       "      <td>-102.539102</td>\n",
       "    </tr>\n",
       "    <tr>\n",
       "      <th>20</th>\n",
       "      <td>-98.3700</td>\n",
       "      <td>-77.176905</td>\n",
       "    </tr>\n",
       "    <tr>\n",
       "      <th>21</th>\n",
       "      <td>-93.6382</td>\n",
       "      <td>-86.007289</td>\n",
       "    </tr>\n",
       "    <tr>\n",
       "      <th>22</th>\n",
       "      <td>-91.7140</td>\n",
       "      <td>-99.644339</td>\n",
       "    </tr>\n",
       "    <tr>\n",
       "      <th>23</th>\n",
       "      <td>-96.6600</td>\n",
       "      <td>-118.762977</td>\n",
       "    </tr>\n",
       "    <tr>\n",
       "      <th>24</th>\n",
       "      <td>-89.3159</td>\n",
       "      <td>-96.427666</td>\n",
       "    </tr>\n",
       "    <tr>\n",
       "      <th>25</th>\n",
       "      <td>-95.4021</td>\n",
       "      <td>-89.813830</td>\n",
       "    </tr>\n",
       "    <tr>\n",
       "      <th>26</th>\n",
       "      <td>-91.3110</td>\n",
       "      <td>-78.771483</td>\n",
       "    </tr>\n",
       "    <tr>\n",
       "      <th>27</th>\n",
       "      <td>-82.3700</td>\n",
       "      <td>-94.682870</td>\n",
       "    </tr>\n",
       "    <tr>\n",
       "      <th>28</th>\n",
       "      <td>-76.4288</td>\n",
       "      <td>-83.389117</td>\n",
       "    </tr>\n",
       "    <tr>\n",
       "      <th>29</th>\n",
       "      <td>-82.5400</td>\n",
       "      <td>-97.251300</td>\n",
       "    </tr>\n",
       "    <tr>\n",
       "      <th>...</th>\n",
       "      <td>...</td>\n",
       "      <td>...</td>\n",
       "    </tr>\n",
       "    <tr>\n",
       "      <th>36324</th>\n",
       "      <td>NaN</td>\n",
       "      <td>-81.199854</td>\n",
       "    </tr>\n",
       "    <tr>\n",
       "      <th>36325</th>\n",
       "      <td>NaN</td>\n",
       "      <td>-91.132830</td>\n",
       "    </tr>\n",
       "    <tr>\n",
       "      <th>36326</th>\n",
       "      <td>NaN</td>\n",
       "      <td>-85.621391</td>\n",
       "    </tr>\n",
       "    <tr>\n",
       "      <th>36327</th>\n",
       "      <td>NaN</td>\n",
       "      <td>-76.068498</td>\n",
       "    </tr>\n",
       "    <tr>\n",
       "      <th>36328</th>\n",
       "      <td>NaN</td>\n",
       "      <td>-76.916060</td>\n",
       "    </tr>\n",
       "    <tr>\n",
       "      <th>36329</th>\n",
       "      <td>NaN</td>\n",
       "      <td>-80.135362</td>\n",
       "    </tr>\n",
       "    <tr>\n",
       "      <th>36330</th>\n",
       "      <td>NaN</td>\n",
       "      <td>-77.454110</td>\n",
       "    </tr>\n",
       "    <tr>\n",
       "      <th>36331</th>\n",
       "      <td>NaN</td>\n",
       "      <td>-87.502593</td>\n",
       "    </tr>\n",
       "    <tr>\n",
       "      <th>36332</th>\n",
       "      <td>NaN</td>\n",
       "      <td>-78.560222</td>\n",
       "    </tr>\n",
       "    <tr>\n",
       "      <th>36333</th>\n",
       "      <td>NaN</td>\n",
       "      <td>-96.384642</td>\n",
       "    </tr>\n",
       "    <tr>\n",
       "      <th>36334</th>\n",
       "      <td>NaN</td>\n",
       "      <td>-81.776753</td>\n",
       "    </tr>\n",
       "    <tr>\n",
       "      <th>36335</th>\n",
       "      <td>NaN</td>\n",
       "      <td>-80.712232</td>\n",
       "    </tr>\n",
       "    <tr>\n",
       "      <th>36336</th>\n",
       "      <td>NaN</td>\n",
       "      <td>-81.877592</td>\n",
       "    </tr>\n",
       "    <tr>\n",
       "      <th>36337</th>\n",
       "      <td>NaN</td>\n",
       "      <td>-98.735916</td>\n",
       "    </tr>\n",
       "    <tr>\n",
       "      <th>36338</th>\n",
       "      <td>NaN</td>\n",
       "      <td>-92.552443</td>\n",
       "    </tr>\n",
       "    <tr>\n",
       "      <th>36339</th>\n",
       "      <td>NaN</td>\n",
       "      <td>-75.104910</td>\n",
       "    </tr>\n",
       "    <tr>\n",
       "      <th>36340</th>\n",
       "      <td>NaN</td>\n",
       "      <td>-91.860991</td>\n",
       "    </tr>\n",
       "    <tr>\n",
       "      <th>36341</th>\n",
       "      <td>NaN</td>\n",
       "      <td>-92.158760</td>\n",
       "    </tr>\n",
       "    <tr>\n",
       "      <th>36342</th>\n",
       "      <td>NaN</td>\n",
       "      <td>-76.802480</td>\n",
       "    </tr>\n",
       "    <tr>\n",
       "      <th>36343</th>\n",
       "      <td>NaN</td>\n",
       "      <td>-86.334403</td>\n",
       "    </tr>\n",
       "    <tr>\n",
       "      <th>36344</th>\n",
       "      <td>NaN</td>\n",
       "      <td>-97.538280</td>\n",
       "    </tr>\n",
       "    <tr>\n",
       "      <th>36345</th>\n",
       "      <td>NaN</td>\n",
       "      <td>-80.045266</td>\n",
       "    </tr>\n",
       "    <tr>\n",
       "      <th>36346</th>\n",
       "      <td>NaN</td>\n",
       "      <td>-88.041123</td>\n",
       "    </tr>\n",
       "    <tr>\n",
       "      <th>36347</th>\n",
       "      <td>NaN</td>\n",
       "      <td>-91.460342</td>\n",
       "    </tr>\n",
       "    <tr>\n",
       "      <th>36348</th>\n",
       "      <td>NaN</td>\n",
       "      <td>-123.584790</td>\n",
       "    </tr>\n",
       "    <tr>\n",
       "      <th>36349</th>\n",
       "      <td>NaN</td>\n",
       "      <td>-115.919484</td>\n",
       "    </tr>\n",
       "    <tr>\n",
       "      <th>36350</th>\n",
       "      <td>NaN</td>\n",
       "      <td>-75.038766</td>\n",
       "    </tr>\n",
       "    <tr>\n",
       "      <th>36351</th>\n",
       "      <td>NaN</td>\n",
       "      <td>-94.512063</td>\n",
       "    </tr>\n",
       "    <tr>\n",
       "      <th>36352</th>\n",
       "      <td>NaN</td>\n",
       "      <td>-74.160602</td>\n",
       "    </tr>\n",
       "    <tr>\n",
       "      <th>36353</th>\n",
       "      <td>NaN</td>\n",
       "      <td>-87.066942</td>\n",
       "    </tr>\n",
       "  </tbody>\n",
       "</table>\n",
       "<p>36354 rows × 2 columns</p>\n",
       "</div>"
      ],
      "text/plain": [
       "          True     en_pred\n",
       "0     -89.9600  -79.675946\n",
       "1     -83.7165  -90.124196\n",
       "2     -92.9240 -105.625997\n",
       "3     -95.8713 -105.477962\n",
       "4     -76.7337  -72.861553\n",
       "5     -80.8100  -76.607041\n",
       "6     -88.8200  -90.736483\n",
       "7     -92.0123  -97.112035\n",
       "8     -91.6500  -90.555949\n",
       "9     -85.5052 -101.669363\n",
       "10    -90.1048  -78.725006\n",
       "11    -95.9600  -96.524361\n",
       "12    -96.7000  -85.307238\n",
       "13    -84.5046  -66.457856\n",
       "14    -95.3872 -122.494826\n",
       "15    -96.6188  -95.091949\n",
       "16    -76.7463  -79.664539\n",
       "17    -88.4791  -90.309069\n",
       "18    -75.0391  -90.147296\n",
       "19    -80.6727 -102.539102\n",
       "20    -98.3700  -77.176905\n",
       "21    -93.6382  -86.007289\n",
       "22    -91.7140  -99.644339\n",
       "23    -96.6600 -118.762977\n",
       "24    -89.3159  -96.427666\n",
       "25    -95.4021  -89.813830\n",
       "26    -91.3110  -78.771483\n",
       "27    -82.3700  -94.682870\n",
       "28    -76.4288  -83.389117\n",
       "29    -82.5400  -97.251300\n",
       "...        ...         ...\n",
       "36324      NaN  -81.199854\n",
       "36325      NaN  -91.132830\n",
       "36326      NaN  -85.621391\n",
       "36327      NaN  -76.068498\n",
       "36328      NaN  -76.916060\n",
       "36329      NaN  -80.135362\n",
       "36330      NaN  -77.454110\n",
       "36331      NaN  -87.502593\n",
       "36332      NaN  -78.560222\n",
       "36333      NaN  -96.384642\n",
       "36334      NaN  -81.776753\n",
       "36335      NaN  -80.712232\n",
       "36336      NaN  -81.877592\n",
       "36337      NaN  -98.735916\n",
       "36338      NaN  -92.552443\n",
       "36339      NaN  -75.104910\n",
       "36340      NaN  -91.860991\n",
       "36341      NaN  -92.158760\n",
       "36342      NaN  -76.802480\n",
       "36343      NaN  -86.334403\n",
       "36344      NaN  -97.538280\n",
       "36345      NaN  -80.045266\n",
       "36346      NaN  -88.041123\n",
       "36347      NaN  -91.460342\n",
       "36348      NaN -123.584790\n",
       "36349      NaN -115.919484\n",
       "36350      NaN  -75.038766\n",
       "36351      NaN  -94.512063\n",
       "36352      NaN  -74.160602\n",
       "36353      NaN  -87.066942\n",
       "\n",
       "[36354 rows x 2 columns]"
      ]
     },
     "execution_count": 139,
     "metadata": {},
     "output_type": "execute_result"
    }
   ],
   "source": [
    "pd.concat([f, d], axis =1)"
   ]
  },
  {
   "cell_type": "code",
   "execution_count": 2,
   "metadata": {},
   "outputs": [],
   "source": [
    "fig = plt.figure(figsize=(4,4))\n",
    "\n",
    "merged[\"end_lat\"].hist(alpha =0.9)\n",
    "merged[\"begin_lat\"].hist(alpha = 0.6)"
   ]
  },
  {
   "cell_type": "markdown",
   "metadata": {},
   "source": [
    "> The above code was an attempt to predict the \"end_lat\" and \"end_lon\" of the storm based on a few other factors. We ended up with very high r2 scores, and we think this was because the beginning of a storm was not far enough away from the end(at least using lat and long) and so it was just predicting the same as the start of the storm."
   ]
  },
  {
   "cell_type": "code",
   "execution_count": 7,
   "metadata": {},
   "outputs": [],
   "source": [
    "def convert_letters(string):\n",
    "    try:\n",
    "        if string.find(\"K\") > 0:\n",
    "            return float(string.replace(\"K\",\"\"))*1_000\n",
    "        elif string.find(\"M\") > 0:\n",
    "            return float(string.replace(\"M\",\"\"))*1_000_000\n",
    "        elif string.find(\"B\") > 0:\n",
    "            return float(string.replace(\"B\",\"\"))*1_000_000_000\n",
    "        else:\n",
    "            return np.nan\n",
    "    except:\n",
    "        print (string)"
   ]
  },
  {
   "cell_type": "code",
   "execution_count": 8,
   "metadata": {},
   "outputs": [],
   "source": [
    "def find_storm(lat, \n",
    "               long, \n",
    "               dist, \n",
    "               merged_dataframe,\n",
    "               metric = \"median\"):\n",
    "    \n",
    "    merged_df = merged_dataframe.copy()\n",
    "    \n",
    "    merged_df_lat_mask_upper = merged_df[\"latitude\"] <= (lat + dist)\n",
    "    merged_df_lat_mask_lower = merged_df[\"latitude\"] >= (lat - dist)\n",
    "    merged_df_long_mask_upper = merged_df[\"longitude\"] <= (long + dist)\n",
    "    merged_df_long_mask_lower = merged_df[\"longitude\"] >= (long - dist)\n",
    "    \n",
    "    merged_df[\"damage_property\"] = merged_df[\"damage_property\"].apply(lambda x: convert_letters(x) if type(x) != float else np.nan)\n",
    "    \n",
    "    data = merged_df[merged_df_lat_mask_lower & merged_df_lat_mask_upper & merged_df_long_mask_lower & merged_df_long_mask_upper]\n",
    "    median = data.groupby(\"event_type\").median()[[\"range\",\"deaths_direct\", \"damage_property\"]]\n",
    "    median[\"count\"] = data.groupby(\"event_type\").count()[\"state\"].values\n",
    "    mean = data.groupby(\"event_type\").mean()[[\"range\", \"deaths_direct\", \"damage_property\"]]\n",
    "    mean[\"count\"] = data.groupby(\"event_type\").count()[\"state\"].values\n",
    "    \n",
    "    if metric == \"mean\":\n",
    "        return mean.sort_values(\"count\", ascending = False)\n",
    "    else:\n",
    "        return median.sort_values(\"count\", ascending = False)\n",
    "    \n",
    "    \n",
    "    "
   ]
  },
  {
   "cell_type": "code",
   "execution_count": 9,
   "metadata": {},
   "outputs": [],
   "source": [
    "df = find_storm(41, -83, 5,merged, metric = \"mean\")"
   ]
  },
  {
   "cell_type": "code",
   "execution_count": 10,
   "metadata": {},
   "outputs": [
    {
     "data": {
      "text/html": [
       "<div>\n",
       "<style scoped>\n",
       "    .dataframe tbody tr th:only-of-type {\n",
       "        vertical-align: middle;\n",
       "    }\n",
       "\n",
       "    .dataframe tbody tr th {\n",
       "        vertical-align: top;\n",
       "    }\n",
       "\n",
       "    .dataframe thead th {\n",
       "        text-align: right;\n",
       "    }\n",
       "</style>\n",
       "<table border=\"1\" class=\"dataframe\">\n",
       "  <thead>\n",
       "    <tr style=\"text-align: right;\">\n",
       "      <th></th>\n",
       "      <th>range</th>\n",
       "      <th>deaths_direct</th>\n",
       "      <th>damage_property</th>\n",
       "      <th>count</th>\n",
       "    </tr>\n",
       "    <tr>\n",
       "      <th>event_type</th>\n",
       "      <th></th>\n",
       "      <th></th>\n",
       "      <th></th>\n",
       "      <th></th>\n",
       "    </tr>\n",
       "  </thead>\n",
       "  <tbody>\n",
       "    <tr>\n",
       "      <th>Thunderstorm Wind</th>\n",
       "      <td>4.145594</td>\n",
       "      <td>0.001402</td>\n",
       "      <td>1.641422e+04</td>\n",
       "      <td>2854</td>\n",
       "    </tr>\n",
       "    <tr>\n",
       "      <th>Hail</th>\n",
       "      <td>3.721127</td>\n",
       "      <td>0.000000</td>\n",
       "      <td>7.099448e+03</td>\n",
       "      <td>1075</td>\n",
       "    </tr>\n",
       "    <tr>\n",
       "      <th>Marine Thunderstorm Wind</th>\n",
       "      <td>4.807018</td>\n",
       "      <td>0.000000</td>\n",
       "      <td>8.269231e+03</td>\n",
       "      <td>773</td>\n",
       "    </tr>\n",
       "    <tr>\n",
       "      <th>Flood</th>\n",
       "      <td>NaN</td>\n",
       "      <td>0.008772</td>\n",
       "      <td>3.281597e+05</td>\n",
       "      <td>342</td>\n",
       "    </tr>\n",
       "    <tr>\n",
       "      <th>Flash Flood</th>\n",
       "      <td>4.740000</td>\n",
       "      <td>0.007463</td>\n",
       "      <td>2.316842e+05</td>\n",
       "      <td>268</td>\n",
       "    </tr>\n",
       "    <tr>\n",
       "      <th>Tornado</th>\n",
       "      <td>2.948454</td>\n",
       "      <td>0.410256</td>\n",
       "      <td>2.997484e+06</td>\n",
       "      <td>117</td>\n",
       "    </tr>\n",
       "    <tr>\n",
       "      <th>Marine Hail</th>\n",
       "      <td>7.235294</td>\n",
       "      <td>0.000000</td>\n",
       "      <td>NaN</td>\n",
       "      <td>34</td>\n",
       "    </tr>\n",
       "    <tr>\n",
       "      <th>Waterspout</th>\n",
       "      <td>2.400000</td>\n",
       "      <td>0.000000</td>\n",
       "      <td>NaN</td>\n",
       "      <td>11</td>\n",
       "    </tr>\n",
       "    <tr>\n",
       "      <th>Lightning</th>\n",
       "      <td>1.500000</td>\n",
       "      <td>0.100000</td>\n",
       "      <td>1.000000e+04</td>\n",
       "      <td>10</td>\n",
       "    </tr>\n",
       "    <tr>\n",
       "      <th>Heavy Rain</th>\n",
       "      <td>NaN</td>\n",
       "      <td>0.000000</td>\n",
       "      <td>NaN</td>\n",
       "      <td>2</td>\n",
       "    </tr>\n",
       "    <tr>\n",
       "      <th>Funnel Cloud</th>\n",
       "      <td>5.000000</td>\n",
       "      <td>0.000000</td>\n",
       "      <td>NaN</td>\n",
       "      <td>1</td>\n",
       "    </tr>\n",
       "    <tr>\n",
       "      <th>High Wind</th>\n",
       "      <td>NaN</td>\n",
       "      <td>0.000000</td>\n",
       "      <td>5.000000e+04</td>\n",
       "      <td>1</td>\n",
       "    </tr>\n",
       "  </tbody>\n",
       "</table>\n",
       "</div>"
      ],
      "text/plain": [
       "                             range  deaths_direct  damage_property  count\n",
       "event_type                                                               \n",
       "Thunderstorm Wind         4.145594       0.001402     1.641422e+04   2854\n",
       "Hail                      3.721127       0.000000     7.099448e+03   1075\n",
       "Marine Thunderstorm Wind  4.807018       0.000000     8.269231e+03    773\n",
       "Flood                          NaN       0.008772     3.281597e+05    342\n",
       "Flash Flood               4.740000       0.007463     2.316842e+05    268\n",
       "Tornado                   2.948454       0.410256     2.997484e+06    117\n",
       "Marine Hail               7.235294       0.000000              NaN     34\n",
       "Waterspout                2.400000       0.000000              NaN     11\n",
       "Lightning                 1.500000       0.100000     1.000000e+04     10\n",
       "Heavy Rain                     NaN       0.000000              NaN      2\n",
       "Funnel Cloud              5.000000       0.000000              NaN      1\n",
       "High Wind                      NaN       0.000000     5.000000e+04      1"
      ]
     },
     "execution_count": 10,
     "metadata": {},
     "output_type": "execute_result"
    }
   ],
   "source": [
    "df"
   ]
  },
  {
   "cell_type": "markdown",
   "metadata": {},
   "source": [
    "> The above code takes the historical storm data and classifies it by lat,long and then returns stats for the event_types in that area based on range, damage_property costs and the number of storms. We eventually did not include this in the final tool because it did not seem necessary for an immediate response, but it could be something to be expanded on for recovery efforts."
   ]
  },
  {
   "cell_type": "code",
   "execution_count": null,
   "metadata": {},
   "outputs": [],
   "source": []
  }
 ],
 "metadata": {
  "kernelspec": {
   "display_name": "Python 3",
   "language": "python",
   "name": "python3"
  },
  "language_info": {
   "codemirror_mode": {
    "name": "ipython",
    "version": 3
   },
   "file_extension": ".py",
   "mimetype": "text/x-python",
   "name": "python",
   "nbconvert_exporter": "python",
   "pygments_lexer": "ipython3",
   "version": "3.7.3"
  }
 },
 "nbformat": 4,
 "nbformat_minor": 2
}
