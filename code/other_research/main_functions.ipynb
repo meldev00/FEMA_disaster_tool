{
 "cells": [
  {
   "cell_type": "markdown",
   "metadata": {},
   "source": [
    "# Functions Used\n",
    ">This page holds most of the functions that were uesd to read in the data, determine the distance of each lifeline from the epicenter of the disaster, group the lifelines and then return the life lines within the disaster area. Towards the bottom there is some code from us playing around with maps and heat maps. The parts of this page that were used have been formally written in python files and stored in the \"Functions\" folder."
   ]
  },
  {
   "cell_type": "code",
   "execution_count": 3,
   "metadata": {},
   "outputs": [
    {
     "name": "stderr",
     "output_type": "stream",
     "text": [
      "/Users/mdevlin/anaconda3/lib/python3.7/site-packages/dask/config.py:168: YAMLLoadWarning: calling yaml.load() without Loader=... is deprecated, as the default Loader is unsafe. Please read https://msg.pyyaml.org/load for full details.\n",
      "  data = yaml.load(f.read()) or {}\n",
      "/Users/mdevlin/anaconda3/lib/python3.7/site-packages/distributed/config.py:20: YAMLLoadWarning: calling yaml.load() without Loader=... is deprecated, as the default Loader is unsafe. Please read https://msg.pyyaml.org/load for full details.\n",
      "  defaults = yaml.load(f)\n"
     ]
    }
   ],
   "source": [
    "import pandas as pd\n",
    "import numpy as np\n",
    "from ipyleaflet import Map,Marker,CircleMarker,Heatmap\n",
    "from ipywidgets import HTML\n",
    "from ipyleaflet import Popup"
   ]
  },
  {
   "cell_type": "code",
   "execution_count": 6,
   "metadata": {},
   "outputs": [],
   "source": [
    "data = pd.read_csv(\"../datasets/full_dataset.csv\")"
   ]
  },
  {
   "cell_type": "markdown",
   "metadata": {},
   "source": [
    "> When trying to find the distance between two points using lat and long, we could not just use euclidean distance due to the curve of the earth and the way lat,long fall on the earth. Below is the equation to do so with credit given to the writer."
   ]
  },
  {
   "cell_type": "code",
   "execution_count": 7,
   "metadata": {},
   "outputs": [],
   "source": [
    "# Distance between to latitude and longitude points\n",
    "# Haversine formula example in Python\n",
    "# Author: Wayne Dyck\n",
    "\n",
    "import math\n",
    "\n",
    "def distance(origin, destination):\n",
    "    lat1, lon1 = origin\n",
    "    lat2, lon2 = destination\n",
    "    radius = 3959 # miles\n",
    "    #radius = 6371 # km\n",
    "\n",
    "    dlat = math.radians(lat2-lat1)\n",
    "    dlon = math.radians(lon2-lon1)\n",
    "    a = math.sin(dlat/2) * math.sin(dlat/2) + math.cos(math.radians(lat1)) \\\n",
    "        * math.cos(math.radians(lat2)) * math.sin(dlon/2) * math.sin(dlon/2)\n",
    "    c = 2 * math.atan2(math.sqrt(a), math.sqrt(1-a))\n",
    "    d = radius * c\n",
    "\n",
    "    return d"
   ]
  },
  {
   "cell_type": "markdown",
   "metadata": {},
   "source": [
    "> This function was altered in the final stages, but in general it takes in the epicenter of the storm, radius of the storm and the dataframe with all of the lifelines pulled by the api for a specific area. It outputs a dataframe that lists all the lifelines in that area, categorized by lifeline."
   ]
  },
  {
   "cell_type": "code",
   "execution_count": 8,
   "metadata": {},
   "outputs": [],
   "source": [
    "def life_lines_down(origin, radius, life_line_df):\n",
    "    #origin = epicenter of storm\n",
    "    lat, long = origin\n",
    "    \n",
    "    #creating a new dataframe to manipulate\n",
    "    life_line = life_line_df.copy()\n",
    "    \n",
    "    #this will be the list of distances from the origin\n",
    "    distances = []\n",
    "    \n",
    "    #runs through each life-line and finds the distance from the origin\n",
    "    for i in life_line.index:\n",
    "         distances.append(distance((lat,long),(life_line.loc[i,\"lat\"],life_line.loc[i,\"lng\"])))\n",
    "    \n",
    "    #adds the distance column to the life-line dataframe\n",
    "    life_line[\"distance\"] = distances\n",
    "    \n",
    "    #creating a new dataframe of the affected area\n",
    "    affected_area_df = life_line[life_line[\"distance\"] <= radius]\n",
    "    \n",
    "    #creating a list of life-lines in df\n",
    "    lines = []\n",
    "    for i in affected_area_df[\"FEMA Lifeline\"].value_counts().index:\n",
    "        lines.append(i)\n",
    "        \n",
    "    #calculate the total life lines in the zone\n",
    "    total_life_lines = affected_area_df.shape[0]\n",
    "    \n",
    "    print (f\"The total amount of life lines in this area is: {total_life_lines}.\")\n",
    "    print (f\"Below is a list of the types of life-lines and how many are in the affected area:\")\n",
    "    for i in lines:\n",
    "        \n",
    "        num_places = affected_area_df[\"FEMA Lifeline\"].value_counts()[i]\n",
    "        print (f\"{i}: {num_places}\")\n",
    "         \n",
    "    #prompt user to choose the percent of lifelines affected in this zone\n",
    "    percent_affected = input (\"What percent of buildings are assumed affected?\")\n",
    "    \n",
    "    #calculate the number of life lifes affected given the user input; takes the floor of affected\n",
    "    number_affected = math.floor(total_life_lines*float(percent_affected))\n",
    "    \n",
    "    #return a dataframe of the lifelines affected\n",
    "    life_lines_affected_df = affected_area_df.drop([\"geometry\",\"types\"], axis = 1).head(int(number_affected))\n",
    "    \n",
    "    #return a dataframe of the lifelines not affected\n",
    "    life_lines_not_affected_df = affected_area_df.drop(life_lines_affected_df.index)\n",
    "    \n",
    "    return life_lines_affected_df"
   ]
  },
  {
   "cell_type": "code",
   "execution_count": 9,
   "metadata": {},
   "outputs": [
    {
     "name": "stdout",
     "output_type": "stream",
     "text": [
      "The total amount of life lines in this area is: 233.\n",
      "Below is a list of the types of life-lines and how many are in the affected area:\n",
      "Safety & Security: 65\n",
      "Health & Medical: 48\n",
      "Communications: 44\n",
      "Energy: 40\n",
      "Food, Water & Shelter: 28\n",
      "Transportation: 8\n",
      "What percent of buildings are assumed affected?.5\n"
     ]
    }
   ],
   "source": [
    "origin = (29.89, -90.08)\n",
    "df = life_lines_down(origin, 2, data);"
   ]
  },
  {
   "cell_type": "code",
   "execution_count": 10,
   "metadata": {},
   "outputs": [
    {
     "data": {
      "text/html": [
       "<div>\n",
       "<style scoped>\n",
       "    .dataframe tbody tr th:only-of-type {\n",
       "        vertical-align: middle;\n",
       "    }\n",
       "\n",
       "    .dataframe tbody tr th {\n",
       "        vertical-align: top;\n",
       "    }\n",
       "\n",
       "    .dataframe thead th {\n",
       "        text-align: right;\n",
       "    }\n",
       "</style>\n",
       "<table border=\"1\" class=\"dataframe\">\n",
       "  <thead>\n",
       "    <tr style=\"text-align: right;\">\n",
       "      <th></th>\n",
       "      <th>FEMA Lifeline</th>\n",
       "      <th>name</th>\n",
       "      <th>vicinity</th>\n",
       "      <th>lat</th>\n",
       "      <th>lng</th>\n",
       "      <th>Website_FEMA</th>\n",
       "      <th>distance</th>\n",
       "    </tr>\n",
       "  </thead>\n",
       "  <tbody>\n",
       "    <tr>\n",
       "      <th>34</th>\n",
       "      <td>Safety &amp; Security</td>\n",
       "      <td>David Crockett Fire Department</td>\n",
       "      <td>1136 Lafayette Street, Gretna</td>\n",
       "      <td>29.910927</td>\n",
       "      <td>-90.057520</td>\n",
       "      <td>1</td>\n",
       "      <td>1.975890</td>\n",
       "    </tr>\n",
       "    <tr>\n",
       "      <th>50</th>\n",
       "      <td>Safety &amp; Security</td>\n",
       "      <td>David Crocktt Stm Voltr</td>\n",
       "      <td>1136 Lafayette Street, Gretna</td>\n",
       "      <td>29.910943</td>\n",
       "      <td>-90.057541</td>\n",
       "      <td>1</td>\n",
       "      <td>1.975856</td>\n",
       "    </tr>\n",
       "    <tr>\n",
       "      <th>52</th>\n",
       "      <td>Safety &amp; Security</td>\n",
       "      <td>Harvey Volunteer Fire Co</td>\n",
       "      <td>639 Maple Avenue, Harvey</td>\n",
       "      <td>29.905359</td>\n",
       "      <td>-90.072736</td>\n",
       "      <td>1</td>\n",
       "      <td>1.146988</td>\n",
       "    </tr>\n",
       "    <tr>\n",
       "      <th>57</th>\n",
       "      <td>Safety &amp; Security</td>\n",
       "      <td>Marrero-Harvey Volunteer Fire</td>\n",
       "      <td>531 Avenue C, Marrero</td>\n",
       "      <td>29.901159</td>\n",
       "      <td>-90.095659</td>\n",
       "      <td>1</td>\n",
       "      <td>1.214240</td>\n",
       "    </tr>\n",
       "    <tr>\n",
       "      <th>60</th>\n",
       "      <td>Safety &amp; Security</td>\n",
       "      <td>Harvey Volunteer Fire Co No 2</td>\n",
       "      <td>1801 Gretna Boulevard, Harvey</td>\n",
       "      <td>29.889406</td>\n",
       "      <td>-90.063754</td>\n",
       "      <td>1</td>\n",
       "      <td>0.974097</td>\n",
       "    </tr>\n",
       "  </tbody>\n",
       "</table>\n",
       "</div>"
      ],
      "text/plain": [
       "        FEMA Lifeline                            name  \\\n",
       "34  Safety & Security  David Crockett Fire Department   \n",
       "50  Safety & Security         David Crocktt Stm Voltr   \n",
       "52  Safety & Security        Harvey Volunteer Fire Co   \n",
       "57  Safety & Security   Marrero-Harvey Volunteer Fire   \n",
       "60  Safety & Security   Harvey Volunteer Fire Co No 2   \n",
       "\n",
       "                         vicinity        lat        lng  Website_FEMA  \\\n",
       "34  1136 Lafayette Street, Gretna  29.910927 -90.057520             1   \n",
       "50  1136 Lafayette Street, Gretna  29.910943 -90.057541             1   \n",
       "52       639 Maple Avenue, Harvey  29.905359 -90.072736             1   \n",
       "57          531 Avenue C, Marrero  29.901159 -90.095659             1   \n",
       "60  1801 Gretna Boulevard, Harvey  29.889406 -90.063754             1   \n",
       "\n",
       "    distance  \n",
       "34  1.975890  \n",
       "50  1.975856  \n",
       "52  1.146988  \n",
       "57  1.214240  \n",
       "60  0.974097  "
      ]
     },
     "execution_count": 10,
     "metadata": {},
     "output_type": "execute_result"
    }
   ],
   "source": [
    "df.head()"
   ]
  },
  {
   "cell_type": "markdown",
   "metadata": {},
   "source": [
    "> Below is code that plays around with putting markers and detail on a map. Another map shows all of the lifelines on a grid. The final map is a heatmap outline. The parts that were used were made into functions for the final tool."
   ]
  },
  {
   "cell_type": "code",
   "execution_count": 7,
   "metadata": {},
   "outputs": [
    {
     "data": {
      "application/vnd.jupyter.widget-view+json": {
       "model_id": "1ef993685981486e97ff82bf5ca8af61",
       "version_major": 2,
       "version_minor": 0
      },
      "text/plain": [
       "Map(basemap={'url': 'https://{s}.tile.openstreetmap.org/{z}/{x}/{y}.png', 'max_zoom': 19, 'attribution': 'Map …"
      ]
     },
     "metadata": {},
     "output_type": "display_data"
    }
   ],
   "source": [
    "center = origin\n",
    "m = Map(center = center, zoom = 15)\n",
    "\n",
    "from ipyleaflet import Map,Marker,CircleMarker,Heatmap\n",
    "from ipywidgets import HTML\n",
    "from ipyleaflet import Popup\n",
    "\n",
    "for i in df.index:\n",
    "    marker = Marker(location = [df.loc[i, \"lat\"], df.loc[i, \"lng\"]])\n",
    "    m.add_layer(marker)\n",
    "    message1 = HTML()\n",
    "    message1.value = df.loc[i, 'name']\n",
    "    message1.description = df.loc[i, \"FEMA Lifeline\"]\n",
    "    popup = Popup(\n",
    "        location=[df.loc[i, \"lat\"], df.loc[i, \"lng\"]],\n",
    "        close_button=True,\n",
    "        max_width = 400\n",
    "    )\n",
    "    m.add_layer(popup)\n",
    "    marker.popup = message1\n",
    "\n",
    "display(m)"
   ]
  },
  {
   "cell_type": "code",
   "execution_count": 9,
   "metadata": {},
   "outputs": [
    {
     "data": {
      "image/png": "[encoded data removed]",
      "text/plain": [
       "<Figure size 720x720 with 1 Axes>"
      ]
     },
     "metadata": {
      "needs_background": "light"
     },
     "output_type": "display_data"
    }
   ],
   "source": [
    "import matplotlib.pyplot as plt\n",
    "fig = plt.figure(figsize=(10,10))\n",
    "plt.scatter(data['lat'],data['lng'],c='blue')\n",
    "plt.show()"
   ]
  },
  {
   "cell_type": "code",
   "execution_count": 8,
   "metadata": {},
   "outputs": [
    {
     "data": {
      "application/vnd.jupyter.widget-view+json": {
       "model_id": "ee2f0b86c9064d94a1cb1a0b2c315665",
       "version_major": 2,
       "version_minor": 0
      },
      "text/plain": [
       "Map(basemap={'url': 'https://{s}.tile.openstreetmap.org/{z}/{x}/{y}.png', 'max_zoom': 19, 'attribution': 'Map …"
      ]
     },
     "metadata": {},
     "output_type": "display_data"
    }
   ],
   "source": [
    "center = origin\n",
    "m = Map(center = center, zoom = 11)\n",
    "\n",
    "heatmap = Heatmap(\n",
    "    locations=[(data.loc[i, \"lat\"], data.loc[i,\"lng\"]) for i in data.index],\n",
    "    radius=16\n",
    ")\n",
    "\n",
    "m.add_layer(heatmap);\n",
    "\n",
    "display(m)"
   ]
  },
  {
   "cell_type": "code",
   "execution_count": null,
   "metadata": {},
   "outputs": [],
   "source": []
  }
 ],
 "metadata": {
  "kernelspec": {
   "display_name": "Python 3",
   "language": "python",
   "name": "python3"
  },
  "language_info": {
   "codemirror_mode": {
    "name": "ipython",
    "version": 3
   },
   "file_extension": ".py",
   "mimetype": "text/x-python",
   "name": "python",
   "nbconvert_exporter": "python",
   "pygments_lexer": "ipython3",
   "version": "3.7.3"
  }
 },
 "nbformat": 4,
 "nbformat_minor": 2
}
