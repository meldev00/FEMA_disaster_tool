{
 "cells": [
  {
   "cell_type": "code",
   "execution_count": 1,
   "metadata": {},
   "outputs": [],
   "source": [
    "import pandas as pd\n",
    "import matplotlib.pyplot as plt\n",
    "import seaborn as sns\n",
    "import numpy as np\n",
    "\n",
    "details_2005 = pd.read_csv(\"./StormEvents_details-ftp_v1.0_d2005_c20170717.csv\")\n",
    "locations_2005 = pd.read_csv(\"./StormEvents_locations-ftp_v1.0_d2005_c20170717.csv\")\n",
    "#import 2014-2019"
   ]
  },
  {
   "cell_type": "code",
   "execution_count": 2,
   "metadata": {},
   "outputs": [],
   "source": [
    "details_2005.columns = [x.lower() for x in list(details_2005.columns)]"
   ]
  },
  {
   "cell_type": "code",
   "execution_count": 3,
   "metadata": {},
   "outputs": [],
   "source": [
    "locations_2005.columns = [x.lower() for x in list(locations_2005.columns)]"
   ]
  },
  {
   "cell_type": "code",
   "execution_count": 4,
   "metadata": {},
   "outputs": [],
   "source": [
    "drop_columns = []\n",
    "\n",
    "for i in details_2005.isna().sum().index:\n",
    "    if (details_2005.isna().sum() > 40_000)[i]:\n",
    "        drop_columns.append(i)"
   ]
  },
  {
   "cell_type": "code",
   "execution_count": 5,
   "metadata": {},
   "outputs": [],
   "source": [
    "details_2005 = details_2005.drop(drop_columns, axis = 1)"
   ]
  },
  {
   "cell_type": "code",
   "execution_count": 6,
   "metadata": {},
   "outputs": [
    {
     "data": {
      "text/plain": [
       "(57267, 51)"
      ]
     },
     "execution_count": 6,
     "metadata": {},
     "output_type": "execute_result"
    }
   ],
   "source": [
    "merged = pd.merge(locations_2005, details_2005, on = \"event_id\")\n",
    "merged.shape"
   ]
  },
  {
   "cell_type": "code",
   "execution_count": null,
   "metadata": {},
   "outputs": [],
   "source": []
  },
  {
   "cell_type": "code",
   "execution_count": 7,
   "metadata": {},
   "outputs": [],
   "source": [
    "def convert_letters(string):\n",
    "    try:\n",
    "        if string.find(\"K\") > 0:\n",
    "            return float(string.replace(\"K\",\"\"))*1_000\n",
    "        elif string.find(\"M\") > 0:\n",
    "            return float(string.replace(\"M\",\"\"))*1_000_000\n",
    "        elif string.find(\"B\") > 0:\n",
    "            return float(string.replace(\"B\",\"\"))*1_000_000_000\n",
    "        else:\n",
    "            return np.nan\n",
    "    except:\n",
    "        print (string)"
   ]
  },
  {
   "cell_type": "code",
   "execution_count": 8,
   "metadata": {},
   "outputs": [],
   "source": [
    "def find_storm(lat, \n",
    "               long, \n",
    "               dist, \n",
    "               merged_dataframe,\n",
    "               metric = \"median\"):\n",
    "    \n",
    "    merged_df = merged_dataframe.copy()\n",
    "    \n",
    "    merged_df_lat_mask_upper = merged_df[\"latitude\"] <= (lat + dist)\n",
    "    merged_df_lat_mask_lower = merged_df[\"latitude\"] >= (lat - dist)\n",
    "    merged_df_long_mask_upper = merged_df[\"longitude\"] <= (long + dist)\n",
    "    merged_df_long_mask_lower = merged_df[\"longitude\"] >= (long - dist)\n",
    "    \n",
    "    merged_df[\"damage_property\"] = merged_df[\"damage_property\"].apply(lambda x: convert_letters(x) if type(x) != float else np.nan)\n",
    "    \n",
    "    data = merged_df[merged_df_lat_mask_lower & merged_df_lat_mask_upper & merged_df_long_mask_lower & merged_df_long_mask_upper]\n",
    "    median = data.groupby(\"event_type\").median()[[\"range\",\"deaths_direct\", \"damage_property\"]]\n",
    "    median[\"count\"] = data.groupby(\"event_type\").count()[\"state\"].values\n",
    "    mean = data.groupby(\"event_type\").mean()[[\"range\", \"deaths_direct\", \"damage_property\"]]\n",
    "    mean[\"count\"] = data.groupby(\"event_type\").count()[\"state\"].values\n",
    "    \n",
    "    if metric == \"mean\":\n",
    "        return mean.sort_values(\"count\", ascending = False)\n",
    "    else:\n",
    "        return median.sort_values(\"count\", ascending = False)\n",
    "    \n",
    "    \n",
    "    "
   ]
  },
  {
   "cell_type": "code",
   "execution_count": 9,
   "metadata": {},
   "outputs": [],
   "source": [
    "df = find_storm(41, -83, 5,merged, metric = \"mean\")"
   ]
  },
  {
   "cell_type": "code",
   "execution_count": 10,
   "metadata": {},
   "outputs": [
    {
     "data": {
      "text/html": [
       "<div>\n",
       "<style scoped>\n",
       "    .dataframe tbody tr th:only-of-type {\n",
       "        vertical-align: middle;\n",
       "    }\n",
       "\n",
       "    .dataframe tbody tr th {\n",
       "        vertical-align: top;\n",
       "    }\n",
       "\n",
       "    .dataframe thead th {\n",
       "        text-align: right;\n",
       "    }\n",
       "</style>\n",
       "<table border=\"1\" class=\"dataframe\">\n",
       "  <thead>\n",
       "    <tr style=\"text-align: right;\">\n",
       "      <th></th>\n",
       "      <th>range</th>\n",
       "      <th>deaths_direct</th>\n",
       "      <th>damage_property</th>\n",
       "      <th>count</th>\n",
       "    </tr>\n",
       "    <tr>\n",
       "      <th>event_type</th>\n",
       "      <th></th>\n",
       "      <th></th>\n",
       "      <th></th>\n",
       "      <th></th>\n",
       "    </tr>\n",
       "  </thead>\n",
       "  <tbody>\n",
       "    <tr>\n",
       "      <th>Thunderstorm Wind</th>\n",
       "      <td>4.145594</td>\n",
       "      <td>0.001402</td>\n",
       "      <td>1.641422e+04</td>\n",
       "      <td>2854</td>\n",
       "    </tr>\n",
       "    <tr>\n",
       "      <th>Hail</th>\n",
       "      <td>3.721127</td>\n",
       "      <td>0.000000</td>\n",
       "      <td>7.099448e+03</td>\n",
       "      <td>1075</td>\n",
       "    </tr>\n",
       "    <tr>\n",
       "      <th>Marine Thunderstorm Wind</th>\n",
       "      <td>4.807018</td>\n",
       "      <td>0.000000</td>\n",
       "      <td>8.269231e+03</td>\n",
       "      <td>773</td>\n",
       "    </tr>\n",
       "    <tr>\n",
       "      <th>Flood</th>\n",
       "      <td>NaN</td>\n",
       "      <td>0.008772</td>\n",
       "      <td>3.281597e+05</td>\n",
       "      <td>342</td>\n",
       "    </tr>\n",
       "    <tr>\n",
       "      <th>Flash Flood</th>\n",
       "      <td>4.740000</td>\n",
       "      <td>0.007463</td>\n",
       "      <td>2.316842e+05</td>\n",
       "      <td>268</td>\n",
       "    </tr>\n",
       "    <tr>\n",
       "      <th>Tornado</th>\n",
       "      <td>2.948454</td>\n",
       "      <td>0.410256</td>\n",
       "      <td>2.997484e+06</td>\n",
       "      <td>117</td>\n",
       "    </tr>\n",
       "    <tr>\n",
       "      <th>Marine Hail</th>\n",
       "      <td>7.235294</td>\n",
       "      <td>0.000000</td>\n",
       "      <td>NaN</td>\n",
       "      <td>34</td>\n",
       "    </tr>\n",
       "    <tr>\n",
       "      <th>Waterspout</th>\n",
       "      <td>2.400000</td>\n",
       "      <td>0.000000</td>\n",
       "      <td>NaN</td>\n",
       "      <td>11</td>\n",
       "    </tr>\n",
       "    <tr>\n",
       "      <th>Lightning</th>\n",
       "      <td>1.500000</td>\n",
       "      <td>0.100000</td>\n",
       "      <td>1.000000e+04</td>\n",
       "      <td>10</td>\n",
       "    </tr>\n",
       "    <tr>\n",
       "      <th>Heavy Rain</th>\n",
       "      <td>NaN</td>\n",
       "      <td>0.000000</td>\n",
       "      <td>NaN</td>\n",
       "      <td>2</td>\n",
       "    </tr>\n",
       "    <tr>\n",
       "      <th>Funnel Cloud</th>\n",
       "      <td>5.000000</td>\n",
       "      <td>0.000000</td>\n",
       "      <td>NaN</td>\n",
       "      <td>1</td>\n",
       "    </tr>\n",
       "    <tr>\n",
       "      <th>High Wind</th>\n",
       "      <td>NaN</td>\n",
       "      <td>0.000000</td>\n",
       "      <td>5.000000e+04</td>\n",
       "      <td>1</td>\n",
       "    </tr>\n",
       "  </tbody>\n",
       "</table>\n",
       "</div>"
      ],
      "text/plain": [
       "                             range  deaths_direct  damage_property  count\n",
       "event_type                                                               \n",
       "Thunderstorm Wind         4.145594       0.001402     1.641422e+04   2854\n",
       "Hail                      3.721127       0.000000     7.099448e+03   1075\n",
       "Marine Thunderstorm Wind  4.807018       0.000000     8.269231e+03    773\n",
       "Flood                          NaN       0.008772     3.281597e+05    342\n",
       "Flash Flood               4.740000       0.007463     2.316842e+05    268\n",
       "Tornado                   2.948454       0.410256     2.997484e+06    117\n",
       "Marine Hail               7.235294       0.000000              NaN     34\n",
       "Waterspout                2.400000       0.000000              NaN     11\n",
       "Lightning                 1.500000       0.100000     1.000000e+04     10\n",
       "Heavy Rain                     NaN       0.000000              NaN      2\n",
       "Funnel Cloud              5.000000       0.000000              NaN      1\n",
       "High Wind                      NaN       0.000000     5.000000e+04      1"
      ]
     },
     "execution_count": 10,
     "metadata": {},
     "output_type": "execute_result"
    }
   ],
   "source": [
    "df"
   ]
  },
  {
   "cell_type": "code",
   "execution_count": null,
   "metadata": {},
   "outputs": [],
   "source": []
  }
 ],
 "metadata": {
  "kernelspec": {
   "display_name": "Python 3",
   "language": "python",
   "name": "python3"
  },
  "language_info": {
   "codemirror_mode": {
    "name": "ipython",
    "version": 3
   },
   "file_extension": ".py",
   "mimetype": "text/x-python",
   "name": "python",
   "nbconvert_exporter": "python",
   "pygments_lexer": "ipython3",
   "version": "3.7.3"
  }
 },
 "nbformat": 4,
 "nbformat_minor": 2
}
