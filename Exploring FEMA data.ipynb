{
 "cells": [
  {
   "cell_type": "code",
   "execution_count": 3,
   "metadata": {},
   "outputs": [
    {
     "name": "stderr",
     "output_type": "stream",
     "text": [
      "/Users/mdevlin/anaconda3/lib/python3.7/site-packages/IPython/core/interactiveshell.py:3049: DtypeWarning: Columns (26,28) have mixed types. Specify dtype option on import or set low_memory=False.\n",
      "  interactivity=interactivity, compiler=compiler, result=result)\n"
     ]
    }
   ],
   "source": [
    "import pandas as pd\n",
    "\n",
    "data = pd.read_csv(\"./StormEvents_details-ftp_v1.0_d1996_c20170717.csv\")"
   ]
  },
  {
   "cell_type": "code",
   "execution_count": 6,
   "metadata": {},
   "outputs": [
    {
     "data": {
      "text/plain": [
       "Index(['BEGIN_YEARMONTH', 'BEGIN_DAY', 'BEGIN_TIME', 'END_YEARMONTH',\n",
       "       'END_DAY', 'END_TIME', 'EPISODE_ID', 'EVENT_ID', 'STATE', 'STATE_FIPS',\n",
       "       'YEAR', 'MONTH_NAME', 'EVENT_TYPE', 'CZ_TYPE', 'CZ_FIPS', 'CZ_NAME',\n",
       "       'WFO', 'BEGIN_DATE_TIME', 'CZ_TIMEZONE', 'END_DATE_TIME',\n",
       "       'INJURIES_DIRECT', 'INJURIES_INDIRECT', 'DEATHS_DIRECT',\n",
       "       'DEATHS_INDIRECT', 'DAMAGE_PROPERTY', 'DAMAGE_CROPS', 'SOURCE',\n",
       "       'MAGNITUDE', 'MAGNITUDE_TYPE', 'FLOOD_CAUSE', 'CATEGORY', 'TOR_F_SCALE',\n",
       "       'TOR_LENGTH', 'TOR_WIDTH', 'TOR_OTHER_WFO', 'TOR_OTHER_CZ_STATE',\n",
       "       'TOR_OTHER_CZ_FIPS', 'TOR_OTHER_CZ_NAME', 'BEGIN_RANGE',\n",
       "       'BEGIN_AZIMUTH', 'BEGIN_LOCATION', 'END_RANGE', 'END_AZIMUTH',\n",
       "       'END_LOCATION', 'BEGIN_LAT', 'BEGIN_LON', 'END_LAT', 'END_LON',\n",
       "       'EPISODE_NARRATIVE', 'EVENT_NARRATIVE', 'DATA_SOURCE'],\n",
       "      dtype='object')"
      ]
     },
     "execution_count": 6,
     "metadata": {},
     "output_type": "execute_result"
    }
   ],
   "source": [
    "data.columns"
   ]
  },
  {
   "cell_type": "code",
   "execution_count": 13,
   "metadata": {},
   "outputs": [],
   "source": [
    "data.columns = [x.lower() for x in list(data.columns)]"
   ]
  },
  {
   "cell_type": "code",
   "execution_count": 14,
   "metadata": {},
   "outputs": [
    {
     "data": {
      "text/plain": [
       "Index(['begin_yearmonth', 'begin_day', 'begin_time', 'end_yearmonth',\n",
       "       'end_day', 'end_time', 'episode_id', 'event_id', 'state', 'state_fips',\n",
       "       'year', 'month_name', 'event_type', 'cz_type', 'cz_fips', 'cz_name',\n",
       "       'wfo', 'begin_date_time', 'cz_timezone', 'end_date_time',\n",
       "       'injuries_direct', 'injuries_indirect', 'deaths_direct',\n",
       "       'deaths_indirect', 'damage_property', 'damage_crops', 'source',\n",
       "       'magnitude', 'magnitude_type', 'flood_cause', 'category', 'tor_f_scale',\n",
       "       'tor_length', 'tor_width', 'tor_other_wfo', 'tor_other_cz_state',\n",
       "       'tor_other_cz_fips', 'tor_other_cz_name', 'begin_range',\n",
       "       'begin_azimuth', 'begin_location', 'end_range', 'end_azimuth',\n",
       "       'end_location', 'begin_lat', 'begin_lon', 'end_lat', 'end_lon',\n",
       "       'episode_narrative', 'event_narrative', 'data_source'],\n",
       "      dtype='object')"
      ]
     },
     "execution_count": 14,
     "metadata": {},
     "output_type": "execute_result"
    }
   ],
   "source": [
    "data.columns"
   ]
  },
  {
   "cell_type": "code",
   "execution_count": 42,
   "metadata": {},
   "outputs": [
    {
     "data": {
      "text/plain": [
       "'Strong gradient winds followed behind a line of thunderstorms which occurred along a strong cold front.  This caused widespread damage to trees and power lines.  Numerous tin sheds and a few barns were destroyed during the 15 to 20 hours of strong to severe winds.  Power outages were too numerous to count and one of these outages was credited with starting a furnace fire.  The fire however was confined and no dollar damage was reported.  In spite of the widespread damage to trees, several newspaper articles across the area reported that damage to unharvested crops was minimal.'"
      ]
     },
     "execution_count": 42,
     "metadata": {},
     "output_type": "execute_result"
    }
   ],
   "source": [
    "data[[\"episode_narrative\"]].loc[0, \"episode_narrative\"]"
   ]
  },
  {
   "cell_type": "code",
   "execution_count": 35,
   "metadata": {},
   "outputs": [
    {
     "data": {
      "text/html": [
       "<div>\n",
       "<style scoped>\n",
       "    .dataframe tbody tr th:only-of-type {\n",
       "        vertical-align: middle;\n",
       "    }\n",
       "\n",
       "    .dataframe tbody tr th {\n",
       "        vertical-align: top;\n",
       "    }\n",
       "\n",
       "    .dataframe thead th {\n",
       "        text-align: right;\n",
       "    }\n",
       "</style>\n",
       "<table border=\"1\" class=\"dataframe\">\n",
       "  <thead>\n",
       "    <tr style=\"text-align: right;\">\n",
       "      <th></th>\n",
       "      <th>deaths_direct</th>\n",
       "    </tr>\n",
       "    <tr>\n",
       "      <th>event_type</th>\n",
       "      <th></th>\n",
       "    </tr>\n",
       "  </thead>\n",
       "  <tbody>\n",
       "    <tr>\n",
       "      <th>Avalanche</th>\n",
       "      <td>0.714286</td>\n",
       "    </tr>\n",
       "    <tr>\n",
       "      <th>Blizzard</th>\n",
       "      <td>0.015374</td>\n",
       "    </tr>\n",
       "    <tr>\n",
       "      <th>Coastal Flood</th>\n",
       "      <td>0.019900</td>\n",
       "    </tr>\n",
       "    <tr>\n",
       "      <th>Cold/Wind Chill</th>\n",
       "      <td>0.024050</td>\n",
       "    </tr>\n",
       "    <tr>\n",
       "      <th>Debris Flow</th>\n",
       "      <td>0.041667</td>\n",
       "    </tr>\n",
       "    <tr>\n",
       "      <th>Dense Fog</th>\n",
       "      <td>0.007353</td>\n",
       "    </tr>\n",
       "    <tr>\n",
       "      <th>Drought</th>\n",
       "      <td>0.000000</td>\n",
       "    </tr>\n",
       "    <tr>\n",
       "      <th>Dust Devil</th>\n",
       "      <td>0.090909</td>\n",
       "    </tr>\n",
       "    <tr>\n",
       "      <th>Dust Storm</th>\n",
       "      <td>0.000000</td>\n",
       "    </tr>\n",
       "    <tr>\n",
       "      <th>Flash Flood</th>\n",
       "      <td>0.028271</td>\n",
       "    </tr>\n",
       "    <tr>\n",
       "      <th>Flood</th>\n",
       "      <td>0.016682</td>\n",
       "    </tr>\n",
       "    <tr>\n",
       "      <th>Freezing Fog</th>\n",
       "      <td>0.050000</td>\n",
       "    </tr>\n",
       "    <tr>\n",
       "      <th>Frost/Freeze</th>\n",
       "      <td>0.000000</td>\n",
       "    </tr>\n",
       "    <tr>\n",
       "      <th>Funnel Cloud</th>\n",
       "      <td>0.000000</td>\n",
       "    </tr>\n",
       "    <tr>\n",
       "      <th>Hail</th>\n",
       "      <td>0.000092</td>\n",
       "    </tr>\n",
       "    <tr>\n",
       "      <th>Heat</th>\n",
       "      <td>0.103448</td>\n",
       "    </tr>\n",
       "    <tr>\n",
       "      <th>Heavy Rain</th>\n",
       "      <td>0.014173</td>\n",
       "    </tr>\n",
       "    <tr>\n",
       "      <th>Heavy Snow</th>\n",
       "      <td>0.006045</td>\n",
       "    </tr>\n",
       "    <tr>\n",
       "      <th>High Surf</th>\n",
       "      <td>0.109589</td>\n",
       "    </tr>\n",
       "    <tr>\n",
       "      <th>High Wind</th>\n",
       "      <td>0.006286</td>\n",
       "    </tr>\n",
       "    <tr>\n",
       "      <th>Hurricane (Typhoon)</th>\n",
       "      <td>0.097701</td>\n",
       "    </tr>\n",
       "    <tr>\n",
       "      <th>Ice Storm</th>\n",
       "      <td>0.015235</td>\n",
       "    </tr>\n",
       "    <tr>\n",
       "      <th>Lightning</th>\n",
       "      <td>0.057797</td>\n",
       "    </tr>\n",
       "    <tr>\n",
       "      <th>Marine High Wind</th>\n",
       "      <td>1.000000</td>\n",
       "    </tr>\n",
       "    <tr>\n",
       "      <th>Rip Current</th>\n",
       "      <td>0.806452</td>\n",
       "    </tr>\n",
       "    <tr>\n",
       "      <th>Storm Surge/Tide</th>\n",
       "      <td>0.000000</td>\n",
       "    </tr>\n",
       "    <tr>\n",
       "      <th>Strong Wind</th>\n",
       "      <td>0.058333</td>\n",
       "    </tr>\n",
       "    <tr>\n",
       "      <th>Thunderstorm Wind</th>\n",
       "      <td>0.002281</td>\n",
       "    </tr>\n",
       "    <tr>\n",
       "      <th>Tornado</th>\n",
       "      <td>0.020521</td>\n",
       "    </tr>\n",
       "    <tr>\n",
       "      <th>Tropical Storm</th>\n",
       "      <td>0.008621</td>\n",
       "    </tr>\n",
       "    <tr>\n",
       "      <th>Waterspout</th>\n",
       "      <td>0.000000</td>\n",
       "    </tr>\n",
       "    <tr>\n",
       "      <th>Wildfire</th>\n",
       "      <td>0.000000</td>\n",
       "    </tr>\n",
       "    <tr>\n",
       "      <th>Winter Storm</th>\n",
       "      <td>0.007926</td>\n",
       "    </tr>\n",
       "    <tr>\n",
       "      <th>Winter Weather</th>\n",
       "      <td>0.001560</td>\n",
       "    </tr>\n",
       "  </tbody>\n",
       "</table>\n",
       "</div>"
      ],
      "text/plain": [
       "                     deaths_direct\n",
       "event_type                        \n",
       "Avalanche                 0.714286\n",
       "Blizzard                  0.015374\n",
       "Coastal Flood             0.019900\n",
       "Cold/Wind Chill           0.024050\n",
       "Debris Flow               0.041667\n",
       "Dense Fog                 0.007353\n",
       "Drought                   0.000000\n",
       "Dust Devil                0.090909\n",
       "Dust Storm                0.000000\n",
       "Flash Flood               0.028271\n",
       "Flood                     0.016682\n",
       "Freezing Fog              0.050000\n",
       "Frost/Freeze              0.000000\n",
       "Funnel Cloud              0.000000\n",
       "Hail                      0.000092\n",
       "Heat                      0.103448\n",
       "Heavy Rain                0.014173\n",
       "Heavy Snow                0.006045\n",
       "High Surf                 0.109589\n",
       "High Wind                 0.006286\n",
       "Hurricane (Typhoon)       0.097701\n",
       "Ice Storm                 0.015235\n",
       "Lightning                 0.057797\n",
       "Marine High Wind          1.000000\n",
       "Rip Current               0.806452\n",
       "Storm Surge/Tide          0.000000\n",
       "Strong Wind               0.058333\n",
       "Thunderstorm Wind         0.002281\n",
       "Tornado                   0.020521\n",
       "Tropical Storm            0.008621\n",
       "Waterspout                0.000000\n",
       "Wildfire                  0.000000\n",
       "Winter Storm              0.007926\n",
       "Winter Weather            0.001560"
      ]
     },
     "execution_count": 35,
     "metadata": {},
     "output_type": "execute_result"
    }
   ],
   "source": [
    "data.groupby(\"event_type\").mean()[[\"deaths_direct\"]]"
   ]
  },
  {
   "cell_type": "code",
   "execution_count": 44,
   "metadata": {},
   "outputs": [
    {
     "data": {
      "text/plain": [
       "(48561, 51)"
      ]
     },
     "execution_count": 44,
     "metadata": {},
     "output_type": "execute_result"
    }
   ],
   "source": [
    "data.shape"
   ]
  },
  {
   "cell_type": "code",
   "execution_count": 49,
   "metadata": {},
   "outputs": [
    {
     "data": {
      "text/plain": [
       "5         25K\n",
       "6        .02M\n",
       "7         10K\n",
       "13        20K\n",
       "14        20K\n",
       "23        .1M\n",
       "25          0\n",
       "28        20K\n",
       "29        20K\n",
       "46        10K\n",
       "52        20K\n",
       "63         1K\n",
       "68         5K\n",
       "69       7.9M\n",
       "70        .1M\n",
       "129      .02M\n",
       "132      .04M\n",
       "171       15K\n",
       "173       20K\n",
       "209      .06M\n",
       "222       20K\n",
       "223       90K\n",
       "226        1K\n",
       "237       30K\n",
       "242       15K\n",
       "245      .05M\n",
       "249       .5K\n",
       "250       10K\n",
       "257        4K\n",
       "268        1K\n",
       "         ... \n",
       "48167      4K\n",
       "48168      4K\n",
       "48171      5K\n",
       "48174      2K\n",
       "48175    1.5K\n",
       "48176     15K\n",
       "48179     50K\n",
       "48239      1K\n",
       "48253     20K\n",
       "48254     10K\n",
       "48258     20K\n",
       "48272      5K\n",
       "48283      5K\n",
       "48343      5K\n",
       "48362     40K\n",
       "48365     80K\n",
       "48373      3K\n",
       "48430     30K\n",
       "48435    .06M\n",
       "48439     .3M\n",
       "48456      5K\n",
       "48482     10K\n",
       "48484     10K\n",
       "48511       0\n",
       "48520     10K\n",
       "48528     15M\n",
       "48533     25M\n",
       "48540     .1M\n",
       "48543     15K\n",
       "48556     25K\n",
       "Name: damage_property, Length: 11587, dtype: object"
      ]
     },
     "execution_count": 49,
     "metadata": {},
     "output_type": "execute_result"
    }
   ],
   "source": [
    "data[data[\"damage_property\"].notnull()][\"damage_property\"]"
   ]
  },
  {
   "cell_type": "code",
   "execution_count": null,
   "metadata": {},
   "outputs": [],
   "source": []
  }
 ],
 "metadata": {
  "kernelspec": {
   "display_name": "Python 3",
   "language": "python",
   "name": "python3"
  },
  "language_info": {
   "codemirror_mode": {
    "name": "ipython",
    "version": 3
   },
   "file_extension": ".py",
   "mimetype": "text/x-python",
   "name": "python",
   "nbconvert_exporter": "python",
   "pygments_lexer": "ipython3",
   "version": "3.7.3"
  }
 },
 "nbformat": 4,
 "nbformat_minor": 2
}
