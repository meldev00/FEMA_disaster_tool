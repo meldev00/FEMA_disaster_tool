{
 "cells": [
  {
   "cell_type": "code",
   "execution_count": 1,
   "metadata": {},
   "outputs": [],
   "source": [
    "import pandas as pd\n",
    "import numpy as np\n",
    "import matplotlib.pyplot as plt"
   ]
  },
  {
   "cell_type": "code",
   "execution_count": 2,
   "metadata": {},
   "outputs": [],
   "source": [
    "hosp_data = pd.read_csv(\"./datasets/hospitals.csv\")"
   ]
  },
  {
   "cell_type": "code",
   "execution_count": 11,
   "metadata": {},
   "outputs": [
    {
     "data": {
      "text/html": [
       "<div>\n",
       "<style scoped>\n",
       "    .dataframe tbody tr th:only-of-type {\n",
       "        vertical-align: middle;\n",
       "    }\n",
       "\n",
       "    .dataframe tbody tr th {\n",
       "        vertical-align: top;\n",
       "    }\n",
       "\n",
       "    .dataframe thead th {\n",
       "        text-align: right;\n",
       "    }\n",
       "</style>\n",
       "<table border=\"1\" class=\"dataframe\">\n",
       "  <thead>\n",
       "    <tr style=\"text-align: right;\">\n",
       "      <th></th>\n",
       "      <th>geometry</th>\n",
       "      <th>name</th>\n",
       "      <th>vicinity</th>\n",
       "      <th>types</th>\n",
       "      <th>lat</th>\n",
       "      <th>lng</th>\n",
       "    </tr>\n",
       "  </thead>\n",
       "  <tbody>\n",
       "    <tr>\n",
       "      <th>43</th>\n",
       "      <td>{'location': {'lat': 29.9461358, 'lng': -90.11...</td>\n",
       "      <td>In &amp; Out Urgent Care - Uptown New Orleans, La</td>\n",
       "      <td>6225 South Claiborne Avenue, New Orleans</td>\n",
       "      <td>['doctor', 'hospital', 'health', 'point_of_int...</td>\n",
       "      <td>29.946136</td>\n",
       "      <td>-90.113232</td>\n",
       "    </tr>\n",
       "  </tbody>\n",
       "</table>\n",
       "</div>"
      ],
      "text/plain": [
       "                                             geometry  \\\n",
       "43  {'location': {'lat': 29.9461358, 'lng': -90.11...   \n",
       "\n",
       "                                             name  \\\n",
       "43  In & Out Urgent Care - Uptown New Orleans, La   \n",
       "\n",
       "                                    vicinity  \\\n",
       "43  6225 South Claiborne Avenue, New Orleans   \n",
       "\n",
       "                                                types        lat        lng  \n",
       "43  ['doctor', 'hospital', 'health', 'point_of_int...  29.946136 -90.113232  "
      ]
     },
     "execution_count": 11,
     "metadata": {},
     "output_type": "execute_result"
    }
   ],
   "source": [
    "hosp_data[hosp_data[\"name\"].str.contains(\"Urgent\")]"
   ]
  },
  {
   "cell_type": "code",
   "execution_count": 28,
   "metadata": {},
   "outputs": [
    {
     "data": {
      "text/html": [
       "<div>\n",
       "<style scoped>\n",
       "    .dataframe tbody tr th:only-of-type {\n",
       "        vertical-align: middle;\n",
       "    }\n",
       "\n",
       "    .dataframe tbody tr th {\n",
       "        vertical-align: top;\n",
       "    }\n",
       "\n",
       "    .dataframe thead th {\n",
       "        text-align: right;\n",
       "    }\n",
       "</style>\n",
       "<table border=\"1\" class=\"dataframe\">\n",
       "  <thead>\n",
       "    <tr style=\"text-align: right;\">\n",
       "      <th></th>\n",
       "      <th>geometry</th>\n",
       "      <th>name</th>\n",
       "      <th>vicinity</th>\n",
       "      <th>types</th>\n",
       "      <th>lat</th>\n",
       "      <th>lng</th>\n",
       "      <th>distance</th>\n",
       "    </tr>\n",
       "  </thead>\n",
       "  <tbody>\n",
       "    <tr>\n",
       "      <th>0</th>\n",
       "      <td>{'location': {'lat': 29.9177486, 'lng': -90.12...</td>\n",
       "      <td>Children's Hospital New Orleans</td>\n",
       "      <td>200 Henry Clay Avenue, New Orleans</td>\n",
       "      <td>['hospital', 'point_of_interest', 'establishme...</td>\n",
       "      <td>29.917749</td>\n",
       "      <td>-90.128072</td>\n",
       "      <td>179.128091</td>\n",
       "    </tr>\n",
       "    <tr>\n",
       "      <th>1</th>\n",
       "      <td>{'location': {'lat': 29.8917868, 'lng': -90.09...</td>\n",
       "      <td>West Jefferson Medical Center</td>\n",
       "      <td>1101 Medical Center Boulevard, Marrero</td>\n",
       "      <td>['hospital', 'point_of_interest', 'establishme...</td>\n",
       "      <td>29.891787</td>\n",
       "      <td>-90.095509</td>\n",
       "      <td>179.095542</td>\n",
       "    </tr>\n",
       "    <tr>\n",
       "      <th>2</th>\n",
       "      <td>{'location': {'lat': 29.9556817, 'lng': -90.07...</td>\n",
       "      <td>Tulane Medical Center</td>\n",
       "      <td>1415 Tulane Avenue, New Orleans</td>\n",
       "      <td>['hospital', 'point_of_interest', 'establishme...</td>\n",
       "      <td>29.955682</td>\n",
       "      <td>-90.075830</td>\n",
       "      <td>179.075836</td>\n",
       "    </tr>\n",
       "    <tr>\n",
       "      <th>3</th>\n",
       "      <td>{'location': {'lat': 29.9266229, 'lng': -90.09...</td>\n",
       "      <td>Internal Medicine Specialist Inc.</td>\n",
       "      <td>3525 Prytania Street, New Orleans</td>\n",
       "      <td>['hospital', 'health', 'point_of_interest', 'e...</td>\n",
       "      <td>29.926623</td>\n",
       "      <td>-90.092867</td>\n",
       "      <td>179.092882</td>\n",
       "    </tr>\n",
       "    <tr>\n",
       "      <th>4</th>\n",
       "      <td>{'location': {'lat': 29.9177892, 'lng': -90.12...</td>\n",
       "      <td>CHNOLA</td>\n",
       "      <td>5720, 200 Henry Clay Avenue, New Orleans</td>\n",
       "      <td>['hospital', 'point_of_interest', 'establishme...</td>\n",
       "      <td>29.917789</td>\n",
       "      <td>-90.127685</td>\n",
       "      <td>179.127704</td>\n",
       "    </tr>\n",
       "  </tbody>\n",
       "</table>\n",
       "</div>"
      ],
      "text/plain": [
       "                                            geometry  \\\n",
       "0  {'location': {'lat': 29.9177486, 'lng': -90.12...   \n",
       "1  {'location': {'lat': 29.8917868, 'lng': -90.09...   \n",
       "2  {'location': {'lat': 29.9556817, 'lng': -90.07...   \n",
       "3  {'location': {'lat': 29.9266229, 'lng': -90.09...   \n",
       "4  {'location': {'lat': 29.9177892, 'lng': -90.12...   \n",
       "\n",
       "                                name  \\\n",
       "0    Children's Hospital New Orleans   \n",
       "1      West Jefferson Medical Center   \n",
       "2              Tulane Medical Center   \n",
       "3  Internal Medicine Specialist Inc.   \n",
       "4                             CHNOLA   \n",
       "\n",
       "                                   vicinity  \\\n",
       "0        200 Henry Clay Avenue, New Orleans   \n",
       "1    1101 Medical Center Boulevard, Marrero   \n",
       "2           1415 Tulane Avenue, New Orleans   \n",
       "3         3525 Prytania Street, New Orleans   \n",
       "4  5720, 200 Henry Clay Avenue, New Orleans   \n",
       "\n",
       "                                               types        lat        lng  \\\n",
       "0  ['hospital', 'point_of_interest', 'establishme...  29.917749 -90.128072   \n",
       "1  ['hospital', 'point_of_interest', 'establishme...  29.891787 -90.095509   \n",
       "2  ['hospital', 'point_of_interest', 'establishme...  29.955682 -90.075830   \n",
       "3  ['hospital', 'health', 'point_of_interest', 'e...  29.926623 -90.092867   \n",
       "4  ['hospital', 'point_of_interest', 'establishme...  29.917789 -90.127685   \n",
       "\n",
       "     distance  \n",
       "0  179.128091  \n",
       "1  179.095542  \n",
       "2  179.075836  \n",
       "3  179.092882  \n",
       "4  179.127704  "
      ]
     },
     "execution_count": 28,
     "metadata": {},
     "output_type": "execute_result"
    }
   ],
   "source": [
    "hosp_data.head()"
   ]
  },
  {
   "cell_type": "code",
   "execution_count": 56,
   "metadata": {},
   "outputs": [
    {
     "data": {
      "text/plain": [
       "int"
      ]
     },
     "execution_count": 56,
     "metadata": {},
     "output_type": "execute_result"
    }
   ],
   "source": [
    "type(hosp_data.shape[0])"
   ]
  },
  {
   "cell_type": "code",
   "execution_count": 37,
   "metadata": {},
   "outputs": [],
   "source": [
    "# Haversine formula example in Python\n",
    "# Author: Wayne Dyck\n",
    "\n",
    "import math\n",
    "\n",
    "def distance(origin, destination):\n",
    "    lat1, lon1 = origin\n",
    "    lat2, lon2 = destination\n",
    "    radius = 3959 # miles\n",
    "    #radius = 6371 # km\n",
    "\n",
    "    dlat = math.radians(lat2-lat1)\n",
    "    dlon = math.radians(lon2-lon1)\n",
    "    a = math.sin(dlat/2) * math.sin(dlat/2) + math.cos(math.radians(lat1)) \\\n",
    "        * math.cos(math.radians(lat2)) * math.sin(dlon/2) * math.sin(dlon/2)\n",
    "    c = 2 * math.atan2(math.sqrt(a), math.sqrt(1-a))\n",
    "    d = radius * c\n",
    "\n",
    "    return d"
   ]
  },
  {
   "cell_type": "code",
   "execution_count": 128,
   "metadata": {},
   "outputs": [],
   "source": [
    "def life_lines_down(lat, long, radius, life_line_df):\n",
    "    #origin = epicenter of storm\n",
    "    \n",
    "    #creating a new dataframe to manipulate\n",
    "    life_line = life_line_df\n",
    "    \n",
    "    #this will be the list of distances from the origin\n",
    "    distances = []\n",
    "    \n",
    "    #runs through each life-line and finds the distance from the origin\n",
    "    for i in life_line.index:\n",
    "         distances.append(distance((lat,long),(life_line.loc[i,\"lat\"],life_line.loc[i,\"lng\"])))\n",
    "    \n",
    "    #adds the distance column to the life-line dataframe\n",
    "    life_line[\"distance\"] = distances\n",
    "    \n",
    "    #creating a new dataframe of the affected area\n",
    "    affected_area_df = life_line[life_line[\"distance\"] <= radius].sort_values(\"distance\")\n",
    "    \n",
    "    #prompt user to choose the percent of lifelines affected in this zone\n",
    "    percent_affected = input (\"What percent of buildings do you think have been affected?\")\n",
    "    \n",
    "    #calculate the total life lines in the zone\n",
    "    total_life_lines = affected_area_df.shape[0]\n",
    "    \n",
    "    #calculate the number of life lifes affected given the user input; takes the floor of affected\n",
    "    number_affected = math.floor(total_life_lines*float(percent_affected))\n",
    "    \n",
    "    #return a dataframe of the lifelines affected\n",
    "    life_lines_affected_df = affected_area_df.head(int(number_affected))\n",
    "    \n",
    "    #return a dataframe of the lifelines not affected\n",
    "    life_lines_not_affected_df = affected_area_df.drop(life_lines_affected_df.index)\n",
    "    \n",
    "    print (f\"The places affected by the storm are: {life_lines_affected_df['name'].values}\")\n",
    "    print (\"\")\n",
    "    print (f\"The next closest places not affected by the storm are: {life_lines_not_affected_df['name'].values}\")"
   ]
  },
  {
   "cell_type": "code",
   "execution_count": 129,
   "metadata": {},
   "outputs": [
    {
     "name": "stdout",
     "output_type": "stream",
     "text": [
      "What percent of buildings do you think have been affected?.5\n",
      "The places affected by the storm are: ['Fresenius Medical Care at Louisiana Specialty, Hospital'\n",
      " 'West Jefferson Urology Specialists' 'Heart Clinic Louisiana']\n",
      "\n",
      "The next closest places not affected by the storm are: ['West Jefferson Medical Center' 'Children’s Pediatrics Westbank Marrero'\n",
      " 'Jefferson Parish Human Services Authority, West Jefferson Health Center']\n"
     ]
    }
   ],
   "source": [
    "life_lines_down(29.89, -90.08, 2, hosp_data);"
   ]
  },
  {
   "cell_type": "code",
   "execution_count": 108,
   "metadata": {},
   "outputs": [
    {
     "data": {
      "text/plain": [
       "(4, 7)"
      ]
     },
     "execution_count": 108,
     "metadata": {},
     "output_type": "execute_result"
    }
   ],
   "source": [
    "df.shape"
   ]
  },
  {
   "cell_type": "code",
   "execution_count": 92,
   "metadata": {},
   "outputs": [
    {
     "data": {
      "text/plain": [
       "7"
      ]
     },
     "execution_count": 92,
     "metadata": {},
     "output_type": "execute_result"
    }
   ],
   "source": [
    "math.floor(7.8)"
   ]
  },
  {
   "cell_type": "code",
   "execution_count": null,
   "metadata": {},
   "outputs": [],
   "source": []
  }
 ],
 "metadata": {
  "kernelspec": {
   "display_name": "Python 3",
   "language": "python",
   "name": "python3"
  },
  "language_info": {
   "codemirror_mode": {
    "name": "ipython",
    "version": 3
   },
   "file_extension": ".py",
   "mimetype": "text/x-python",
   "name": "python",
   "nbconvert_exporter": "python",
   "pygments_lexer": "ipython3",
   "version": "3.7.3"
  }
 },
 "nbformat": 4,
 "nbformat_minor": 2
}
