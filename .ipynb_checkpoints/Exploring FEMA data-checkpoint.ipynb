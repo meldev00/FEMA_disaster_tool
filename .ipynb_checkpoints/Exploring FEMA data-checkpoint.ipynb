{
 "cells": [
  {
   "cell_type": "code",
   "execution_count": 17,
   "metadata": {},
   "outputs": [],
   "source": [
    "import pandas as pd\n",
    "import matplotlib.pyplot as plt\n",
    "import seaborn as sns\n",
    "import numpy as np\n",
    "\n",
    "details_2005 = pd.read_csv(\"./StormEvents_details-ftp_v1.0_d2005_c20170717.csv\")\n",
    "locations_2005 = pd.read_csv(\"./StormEvents_locations-ftp_v1.0_d2005_c20170717.csv\")\n",
    "#import 2014-2019"
   ]
  },
  {
   "cell_type": "code",
   "execution_count": 2,
   "metadata": {},
   "outputs": [],
   "source": [
    "details_2005.columns = [x.lower() for x in list(details_2005.columns)]"
   ]
  },
  {
   "cell_type": "code",
   "execution_count": 3,
   "metadata": {},
   "outputs": [],
   "source": [
    "locations_2005.columns = [x.lower() for x in list(locations_2005.columns)]"
   ]
  },
  {
   "cell_type": "code",
   "execution_count": 4,
   "metadata": {},
   "outputs": [],
   "source": [
    "drop_columns = []\n",
    "\n",
    "for i in details_2005.isna().sum().index:\n",
    "    if (details_2005.isna().sum() > 40_000)[i]:\n",
    "        drop_columns.append(i)"
   ]
  },
  {
   "cell_type": "code",
   "execution_count": 5,
   "metadata": {},
   "outputs": [],
   "source": [
    "details_2005 = details_2005.drop(drop_columns, axis = 1)"
   ]
  },
  {
   "cell_type": "code",
   "execution_count": 8,
   "metadata": {},
   "outputs": [
    {
     "data": {
      "text/plain": [
       "(57267, 51)"
      ]
     },
     "execution_count": 8,
     "metadata": {},
     "output_type": "execute_result"
    }
   ],
   "source": [
    "merged = pd.merge(locations_2005, details_2005, on = \"event_id\")\n",
    "merged.shape"
   ]
  },
  {
   "cell_type": "code",
   "execution_count": null,
   "metadata": {},
   "outputs": [],
   "source": []
  },
  {
   "cell_type": "code",
   "execution_count": 9,
   "metadata": {},
   "outputs": [],
   "source": [
    "def convert_letters(string):\n",
    "    try:\n",
    "        if string.find(\"K\") > 0:\n",
    "            return float(string.replace(\"K\",\"\"))*1_000\n",
    "        elif string.find(\"M\") > 0:\n",
    "            return float(string.replace(\"M\",\"\"))*1_000_000\n",
    "        elif string.find(\"B\") > 0:\n",
    "            return float(string.replace(\"B\",\"\"))*1_000_000_000\n",
    "        else:\n",
    "            return np.nan\n",
    "    except:\n",
    "        print (string)"
   ]
  },
  {
   "cell_type": "code",
   "execution_count": 10,
   "metadata": {},
   "outputs": [],
   "source": [
    "def find_storm(lat, \n",
    "               long, \n",
    "               dist, \n",
    "               merged_dataframe,\n",
    "               metric = \"median\"):\n",
    "    \n",
    "    merged_df = merged_dataframe.copy()\n",
    "    \n",
    "    merged_df_lat_mask_upper = merged_df[\"latitude\"] <= (lat + dist)\n",
    "    merged_df_lat_mask_lower = merged_df[\"latitude\"] >= (lat - dist)\n",
    "    merged_df_long_mask_upper = merged_df[\"longitude\"] <= (long + dist)\n",
    "    merged_df_long_mask_lower = merged_df[\"longitude\"] >= (long - dist)\n",
    "    \n",
    "    merged_df[\"damage_property\"] = merged_df[\"damage_property\"].apply(lambda x: convert_letters(x) if type(x) != float else np.nan)\n",
    "    \n",
    "    data = merged_df[merged_df_lat_mask_lower & merged_df_lat_mask_upper & merged_df_long_mask_lower & merged_df_long_mask_upper]\n",
    "    median = data.groupby(\"event_type\").median()[[\"range\",\"deaths_direct\", \"damage_property\"]]\n",
    "    median[\"count\"] = data.groupby(\"event_type\").count()[\"state\"].values\n",
    "    mean = data.groupby(\"event_type\").mean()[[\"range\", \"deaths_direct\", \"damage_property\"]]\n",
    "    mean[\"count\"] = data.groupby(\"event_type\").count()[\"state\"].values\n",
    "    \n",
    "    if metric == \"mean\":\n",
    "        return mean.sort_values(\"count\", ascending = False)\n",
    "    else:\n",
    "        return median.sort_values(\"count\", ascending = False)\n",
    "    \n",
    "    \n",
    "    "
   ]
  },
  {
   "cell_type": "code",
   "execution_count": 11,
   "metadata": {},
   "outputs": [],
   "source": [
    "df = find_storm(41, -83, 5,merged, metric = \"mean\")"
   ]
  }
 ],
 "metadata": {
  "kernelspec": {
   "display_name": "Python 3",
   "language": "python",
   "name": "python3"
  },
  "language_info": {
   "codemirror_mode": {
    "name": "ipython",
    "version": 3
   },
   "file_extension": ".py",
   "mimetype": "text/x-python",
   "name": "python",
   "nbconvert_exporter": "python",
   "pygments_lexer": "ipython3",
   "version": "3.7.3"
  }
 },
 "nbformat": 4,
 "nbformat_minor": 2
}
