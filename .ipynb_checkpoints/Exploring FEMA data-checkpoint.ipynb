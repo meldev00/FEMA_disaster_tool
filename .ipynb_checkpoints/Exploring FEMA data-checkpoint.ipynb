{
 "cells": [
  {
   "cell_type": "code",
   "execution_count": 1,
   "metadata": {},
   "outputs": [],
   "source": [
    "import pandas as pd\n",
    "import matplotlib.pyplot as plt\n",
    "import seaborn as sns\n",
    "import numpy as np\n",
    "\n",
    "details_2005 = pd.read_csv(\"./StormEvents_details-ftp_v1.0_d2005_c20170717.csv\")\n",
    "locations_2005 = pd.read_csv(\"./StormEvents_locations-ftp_v1.0_d2005_c20170717.csv\")"
   ]
  },
  {
   "cell_type": "code",
   "execution_count": 2,
   "metadata": {},
   "outputs": [],
   "source": [
    "details_2005.columns = [x.lower() for x in list(details_2005.columns)]"
   ]
  },
  {
   "cell_type": "code",
   "execution_count": 3,
   "metadata": {},
   "outputs": [],
   "source": [
    "locations_2005.columns = [x.lower() for x in list(locations_2005.columns)]"
   ]
  },
  {
   "cell_type": "code",
   "execution_count": 4,
   "metadata": {},
   "outputs": [],
   "source": [
    "drop_columns = []\n",
    "\n",
    "for i in details_2005.isna().sum().index:\n",
    "    if (details_2005.isna().sum() > 40_000)[i]:\n",
    "        drop_columns.append(i)"
   ]
  },
  {
   "cell_type": "code",
   "execution_count": 5,
   "metadata": {},
   "outputs": [],
   "source": [
    "details_2005 = details_2005.drop(drop_columns, axis = 1)"
   ]
  },
  {
   "cell_type": "code",
   "execution_count": 6,
   "metadata": {},
   "outputs": [
    {
     "data": {
      "text/plain": [
       "(53976, 41)"
      ]
     },
     "execution_count": 6,
     "metadata": {},
     "output_type": "execute_result"
    }
   ],
   "source": [
    "details_2005.shape"
   ]
  },
  {
   "cell_type": "code",
   "execution_count": 7,
   "metadata": {},
   "outputs": [
    {
     "data": {
      "text/plain": [
       "(57267, 11)"
      ]
     },
     "execution_count": 7,
     "metadata": {},
     "output_type": "execute_result"
    }
   ],
   "source": [
    "locations_2005.shape"
   ]
  },
  {
   "cell_type": "code",
   "execution_count": 31,
   "metadata": {},
   "outputs": [
    {
     "data": {
      "text/plain": [
       "(57267, 51)"
      ]
     },
     "execution_count": 31,
     "metadata": {},
     "output_type": "execute_result"
    }
   ],
   "source": [
    "merged = pd.merge(locations_2005, details_2005, on = \"event_id\")\n",
    "merged.shape"
   ]
  },
  {
   "cell_type": "code",
   "execution_count": 32,
   "metadata": {},
   "outputs": [],
   "source": [
    "def convert_letters(string):\n",
    "    try:\n",
    "        if string.find(\"K\") > 0:\n",
    "            return float(string.replace(\"K\",\"\"))*1_000\n",
    "        elif string.find(\"M\") > 0:\n",
    "            return float(string.replace(\"M\",\"\"))*1_000_000\n",
    "        elif string.find(\"B\") > 0:\n",
    "            return float(string.replace(\"B\",\"\"))*1_000_000_000\n",
    "        else:\n",
    "            return np.nan\n",
    "    except:\n",
    "        print (string)"
   ]
  },
  {
   "cell_type": "code",
   "execution_count": 62,
   "metadata": {},
   "outputs": [],
   "source": [
    "def find_storm(lat, \n",
    "               long, \n",
    "               dist, \n",
    "               merged_dataframe,\n",
    "               metric = \"median\"):\n",
    "    \n",
    "    merged_df = merged_dataframe.copy()\n",
    "    \n",
    "    merged_df_lat_mask_upper = merged_df[\"latitude\"] <= (lat + dist)\n",
    "    merged_df_lat_mask_lower = merged_df[\"latitude\"] >= (lat - dist)\n",
    "    merged_df_long_mask_upper = merged_df[\"longitude\"] <= (long + dist)\n",
    "    merged_df_long_mask_lower = merged_df[\"longitude\"] >= (long - dist)\n",
    "    \n",
    "    merged_df[\"damage_property\"] = merged_df[\"damage_property\"].apply(lambda x: convert_letters(x) if type(x) != float else np.nan)\n",
    "    \n",
    "    data = merged_df[merged_df_lat_mask_lower & merged_df_lat_mask_upper & merged_df_long_mask_lower & merged_df_long_mask_upper]\n",
    "    median = data.groupby(\"event_type\").median()[[\"range\",\"deaths_direct\", \"damage_property\"]]\n",
    "    median[\"count\"] = data.groupby(\"event_type\").count()[\"state\"].values\n",
    "    mean = data.groupby(\"event_type\").mean()[[\"range\", \"deaths_direct\", \"damage_property\"]]\n",
    "    mean[\"count\"] = data.groupby(\"event_type\").count()[\"state\"].values\n",
    "    \n",
    "    if metric == \"mean\":\n",
    "        return mean.sort_values(\"count\", ascending = False)\n",
    "    else:\n",
    "        return median.sort_values(\"count\", ascending = False)\n",
    "    \n",
    "    \n",
    "    "
   ]
  },
  {
   "cell_type": "code",
   "execution_count": 63,
   "metadata": {},
   "outputs": [],
   "source": [
    "df = find_storm(41, -83, 10,merged, metric = \"mean\")"
   ]
  },
  {
   "cell_type": "code",
   "execution_count": 64,
   "metadata": {},
   "outputs": [
    {
     "data": {
      "text/html": [
       "<div>\n",
       "<style scoped>\n",
       "    .dataframe tbody tr th:only-of-type {\n",
       "        vertical-align: middle;\n",
       "    }\n",
       "\n",
       "    .dataframe tbody tr th {\n",
       "        vertical-align: top;\n",
       "    }\n",
       "\n",
       "    .dataframe thead th {\n",
       "        text-align: right;\n",
       "    }\n",
       "</style>\n",
       "<table border=\"1\" class=\"dataframe\">\n",
       "  <thead>\n",
       "    <tr style=\"text-align: right;\">\n",
       "      <th></th>\n",
       "      <th>range</th>\n",
       "      <th>deaths_direct</th>\n",
       "      <th>damage_property</th>\n",
       "      <th>count</th>\n",
       "    </tr>\n",
       "    <tr>\n",
       "      <th>event_type</th>\n",
       "      <th></th>\n",
       "      <th></th>\n",
       "      <th></th>\n",
       "      <th></th>\n",
       "    </tr>\n",
       "  </thead>\n",
       "  <tbody>\n",
       "    <tr>\n",
       "      <th>Thunderstorm Wind</th>\n",
       "      <td>4.151748</td>\n",
       "      <td>0.001129</td>\n",
       "      <td>2.615476e+04</td>\n",
       "      <td>7969</td>\n",
       "    </tr>\n",
       "    <tr>\n",
       "      <th>Hail</th>\n",
       "      <td>4.366586</td>\n",
       "      <td>0.000000</td>\n",
       "      <td>1.408276e+05</td>\n",
       "      <td>5000</td>\n",
       "    </tr>\n",
       "    <tr>\n",
       "      <th>Flash Flood</th>\n",
       "      <td>4.272727</td>\n",
       "      <td>0.006595</td>\n",
       "      <td>2.546236e+05</td>\n",
       "      <td>1213</td>\n",
       "    </tr>\n",
       "    <tr>\n",
       "      <th>Marine Thunderstorm Wind</th>\n",
       "      <td>9.053691</td>\n",
       "      <td>0.000000</td>\n",
       "      <td>8.392857e+03</td>\n",
       "      <td>997</td>\n",
       "    </tr>\n",
       "    <tr>\n",
       "      <th>Tornado</th>\n",
       "      <td>4.006002</td>\n",
       "      <td>0.074074</td>\n",
       "      <td>1.105998e+06</td>\n",
       "      <td>945</td>\n",
       "    </tr>\n",
       "    <tr>\n",
       "      <th>Flood</th>\n",
       "      <td>NaN</td>\n",
       "      <td>0.003891</td>\n",
       "      <td>7.677411e+05</td>\n",
       "      <td>771</td>\n",
       "    </tr>\n",
       "    <tr>\n",
       "      <th>Lightning</th>\n",
       "      <td>2.923077</td>\n",
       "      <td>0.050000</td>\n",
       "      <td>1.934186e+05</td>\n",
       "      <td>60</td>\n",
       "    </tr>\n",
       "    <tr>\n",
       "      <th>Marine Hail</th>\n",
       "      <td>6.739130</td>\n",
       "      <td>0.000000</td>\n",
       "      <td>NaN</td>\n",
       "      <td>44</td>\n",
       "    </tr>\n",
       "    <tr>\n",
       "      <th>Funnel Cloud</th>\n",
       "      <td>2.791667</td>\n",
       "      <td>0.000000</td>\n",
       "      <td>NaN</td>\n",
       "      <td>40</td>\n",
       "    </tr>\n",
       "    <tr>\n",
       "      <th>Waterspout</th>\n",
       "      <td>6.481481</td>\n",
       "      <td>0.000000</td>\n",
       "      <td>NaN</td>\n",
       "      <td>35</td>\n",
       "    </tr>\n",
       "    <tr>\n",
       "      <th>Heavy Rain</th>\n",
       "      <td>2.000000</td>\n",
       "      <td>0.000000</td>\n",
       "      <td>6.625000e+04</td>\n",
       "      <td>13</td>\n",
       "    </tr>\n",
       "    <tr>\n",
       "      <th>Strong Wind</th>\n",
       "      <td>NaN</td>\n",
       "      <td>0.000000</td>\n",
       "      <td>5.000000e+03</td>\n",
       "      <td>2</td>\n",
       "    </tr>\n",
       "    <tr>\n",
       "      <th>High Wind</th>\n",
       "      <td>NaN</td>\n",
       "      <td>0.000000</td>\n",
       "      <td>5.000000e+04</td>\n",
       "      <td>1</td>\n",
       "    </tr>\n",
       "  </tbody>\n",
       "</table>\n",
       "</div>"
      ],
      "text/plain": [
       "                             range  deaths_direct  damage_property  count\n",
       "event_type                                                               \n",
       "Thunderstorm Wind         4.151748       0.001129     2.615476e+04   7969\n",
       "Hail                      4.366586       0.000000     1.408276e+05   5000\n",
       "Flash Flood               4.272727       0.006595     2.546236e+05   1213\n",
       "Marine Thunderstorm Wind  9.053691       0.000000     8.392857e+03    997\n",
       "Tornado                   4.006002       0.074074     1.105998e+06    945\n",
       "Flood                          NaN       0.003891     7.677411e+05    771\n",
       "Lightning                 2.923077       0.050000     1.934186e+05     60\n",
       "Marine Hail               6.739130       0.000000              NaN     44\n",
       "Funnel Cloud              2.791667       0.000000              NaN     40\n",
       "Waterspout                6.481481       0.000000              NaN     35\n",
       "Heavy Rain                2.000000       0.000000     6.625000e+04     13\n",
       "Strong Wind                    NaN       0.000000     5.000000e+03      2\n",
       "High Wind                      NaN       0.000000     5.000000e+04      1"
      ]
     },
     "execution_count": 64,
     "metadata": {},
     "output_type": "execute_result"
    }
   ],
   "source": [
    "df"
   ]
  },
  {
   "cell_type": "markdown",
   "metadata": {},
   "source": [
    "# Other Exploration"
   ]
  },
  {
   "cell_type": "code",
   "execution_count": null,
   "metadata": {},
   "outputs": [],
   "source": [
    "import matplotlib.pyplot as plt\n",
    "import seaborn as sns\n",
    "import descartes\n",
    "import geopandas as gpd\n",
    "from shapely.geometry import Point, Polygon"
   ]
  },
  {
   "cell_type": "code",
   "execution_count": null,
   "metadata": {},
   "outputs": [],
   "source": [
    "us_map = gpd.read_file(\"./tl_2018_44_state20/tl_2018_44_state20.shp\")"
   ]
  },
  {
   "cell_type": "code",
   "execution_count": null,
   "metadata": {},
   "outputs": [],
   "source": [
    "fig, ax = plt.subplots(figsize = (10,10))\n",
    "us_map.plot(ax = ax)"
   ]
  },
  {
   "cell_type": "code",
   "execution_count": null,
   "metadata": {},
   "outputs": [],
   "source": [
    "def find_nearby(loc,rad,place_types):\n",
    "    import time\n",
    "    places_result = gmaps.places_nearby(location = loc,radius=rad, type=place_types,page_token=None)\n",
    "    df= create_df(places_result)\n",
    "    after=places_result.get('next_page_token',None)\n",
    "    time.sleep(3)\n",
    "    while after !=None:\n",
    "        \n",
    "        places_result = gmaps.places_nearby(location = loc,radius=rad, type=place_types,page_token=after)\n",
    "        df = df.append(create_df(places_result))\n",
    "        after=places_result.get('next_page_token',None)\n",
    "        time.sleep(3) # Set a 3 second delay between requests.\n",
    "    return df"
   ]
  },
  {
   "cell_type": "code",
   "execution_count": null,
   "metadata": {},
   "outputs": [],
   "source": [
    "def create_df(places_result):\n",
    "    geometry = []\n",
    "    name = []\n",
    "    vicinity = []\n",
    "    types = []\n",
    "\n",
    "    for place in places_result['results']:\n",
    "        geometry.append(place['geometry'])\n",
    "        name.append(place['name'])\n",
    "        vicinity.append(place['vicinity'])\n",
    "        types.append(place['types'])\n",
    "    #Turn lists into a dataframe\n",
    "    df = pd.DataFrame([geometry,name,vicinity,types])\n",
    "    df = df.T\n",
    "    df.columns = ['geometry','name','vicinity','types']\n",
    "    return df"
   ]
  }
 ],
 "metadata": {
  "kernelspec": {
   "display_name": "Python 3",
   "language": "python",
   "name": "python3"
  },
  "language_info": {
   "codemirror_mode": {
    "name": "ipython",
    "version": 3
   },
   "file_extension": ".py",
   "mimetype": "text/x-python",
   "name": "python",
   "nbconvert_exporter": "python",
   "pygments_lexer": "ipython3",
   "version": "3.7.3"
  }
 },
 "nbformat": 4,
 "nbformat_minor": 2
}
